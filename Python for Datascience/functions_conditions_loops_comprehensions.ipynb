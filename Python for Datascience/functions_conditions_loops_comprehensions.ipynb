{
 "cells": [
  {
   "cell_type": "markdown",
   "id": "013234de-7104-4195-863a-1574200b8f52",
   "metadata": {},
   "source": [
    "# FONKSİYONLAR, KOŞULLAR, DÖNGÜLER, COMPREHENSIONS\n",
    "###############################################\n",
    "#### - Fonksiyonlar (Functions)\n",
    "#### - Koşullar (Conditions)\n",
    "#### - Döngüler (Loops)\n",
    "#### - Comprehesions"
   ]
  },
  {
   "cell_type": "markdown",
   "id": "2f34cd87-5b95-4f62-85e4-fc133ae8ef3f",
   "metadata": {},
   "source": [
    "## FONKSİYONLAR (FUNCTIONS)"
   ]
  },
  {
   "cell_type": "code",
   "execution_count": 3,
   "id": "4fd88d50-6aaa-4f9f-808f-ff358546081e",
   "metadata": {},
   "outputs": [
    {
     "name": "stdout",
     "output_type": "stream",
     "text": [
      "a b\n",
      "a__b\n"
     ]
    }
   ],
   "source": [
    "#######################\n",
    "# Fonksiyon Okuryazarlığı\n",
    "#######################\n",
    "\n",
    "print(\"a\", \"b\")\n",
    "\n",
    "print(\"a\", \"b\", sep=\"__\")"
   ]
  },
  {
   "cell_type": "code",
   "execution_count": 4,
   "id": "a79eeca7-5358-478a-91db-ac192b29dc92",
   "metadata": {},
   "outputs": [
    {
     "name": "stdout",
     "output_type": "stream",
     "text": [
      "10\n"
     ]
    }
   ],
   "source": [
    "#######################\n",
    "# Fonksiyon Tanımlama\n",
    "#######################\n",
    "\n",
    "def calculate(x):\n",
    "    print(x * 2)\n",
    "\n",
    "\n",
    "calculate(5)"
   ]
  },
  {
   "cell_type": "code",
   "execution_count": 5,
   "id": "47ad3e82-3b96-4c10-8691-aa26c770f387",
   "metadata": {},
   "outputs": [
    {
     "name": "stdout",
     "output_type": "stream",
     "text": [
      "15\n",
      "15\n",
      "15\n"
     ]
    }
   ],
   "source": [
    "# İki argümanlı/parametreli bir fonksiyon tanımlayalım.\n",
    "\n",
    "def summer(arg1, arg2):\n",
    "    print(arg1 + arg2)\n",
    "\n",
    "\n",
    "summer(7, 8)\n",
    "\n",
    "summer(8, 7)\n",
    "\n",
    "summer(arg2=8, arg1=7)"
   ]
  },
  {
   "cell_type": "code",
   "execution_count": 6,
   "id": "3ffdf160-d2d3-4e84-b497-e4dcefcd92f6",
   "metadata": {},
   "outputs": [
    {
     "name": "stdout",
     "output_type": "stream",
     "text": [
      "4\n"
     ]
    }
   ],
   "source": [
    "#######################\n",
    "# Docstring\n",
    "#######################\n",
    "\n",
    "def summer(arg1, arg2):\n",
    "    \"\"\"\n",
    "    Sum of two numbers\n",
    "\n",
    "    Args:\n",
    "        arg1: int, float\n",
    "        arg2: int, float\n",
    "\n",
    "    Returns:\n",
    "        int, float\n",
    "\n",
    "    \"\"\"\n",
    "\n",
    "    print(arg1 + arg2)\n",
    "\n",
    "\n",
    "summer(1, 3)"
   ]
  },
  {
   "cell_type": "code",
   "execution_count": 7,
   "id": "269c206c-dfaa-4d1d-9f85-93b2e55896f2",
   "metadata": {},
   "outputs": [
    {
     "name": "stdout",
     "output_type": "stream",
     "text": [
      "Merhaba\n",
      "Hi\n",
      "Hello\n"
     ]
    }
   ],
   "source": [
    "#######################\n",
    "# Fonksiyonların Statement/Body Bölümü\n",
    "#######################\n",
    "\n",
    "# def function_name(parameters/arguments):\n",
    "#     statements (function body)\n",
    "\n",
    "def say_hi():\n",
    "    print(\"Merhaba\")\n",
    "    print(\"Hi\")\n",
    "    print(\"Hello\")\n",
    "\n",
    "\n",
    "say_hi()"
   ]
  },
  {
   "cell_type": "code",
   "execution_count": 8,
   "id": "80b6911f-b485-4259-b708-5f7e69b3d9c5",
   "metadata": {},
   "outputs": [
    {
     "name": "stdout",
     "output_type": "stream",
     "text": [
      "miuul\n",
      "Hi\n",
      "Hello\n"
     ]
    }
   ],
   "source": [
    "def say_hi(string):\n",
    "    print(string)\n",
    "    print(\"Hi\")\n",
    "    print(\"Hello\")\n",
    "\n",
    "\n",
    "say_hi(\"miuul\")"
   ]
  },
  {
   "cell_type": "code",
   "execution_count": 9,
   "id": "3050fb3b-e827-4367-a419-7264da78601f",
   "metadata": {},
   "outputs": [
    {
     "name": "stdout",
     "output_type": "stream",
     "text": [
      "90\n"
     ]
    }
   ],
   "source": [
    "def multiplication(a, b):\n",
    "    c = a * b\n",
    "    print(c)\n",
    "\n",
    "\n",
    "multiplication(10, 9)"
   ]
  },
  {
   "cell_type": "code",
   "execution_count": 10,
   "id": "1f9dd431-8152-47ce-91cc-6b9f69a02e63",
   "metadata": {},
   "outputs": [
    {
     "name": "stdout",
     "output_type": "stream",
     "text": [
      "[8]\n",
      "[8, 144]\n",
      "[8, 144, 1800]\n"
     ]
    }
   ],
   "source": [
    "# girilen değerleri bir liste içinde saklayacak fonksiyon.\n",
    "\n",
    "list_store = []\n",
    "\n",
    "\n",
    "def add_element(a, b):\n",
    "    c = a * b\n",
    "    list_store.append(c)\n",
    "    print(list_store)\n",
    "\n",
    "\n",
    "add_element(1, 8)\n",
    "add_element(18, 8)\n",
    "add_element(180, 10)"
   ]
  },
  {
   "cell_type": "code",
   "execution_count": 11,
   "id": "0e207416-06a4-4ea3-8e84-d3278faa86d1",
   "metadata": {},
   "outputs": [
    {
     "name": "stdout",
     "output_type": "stream",
     "text": [
      "mrb\n",
      "Hi\n",
      "Hello\n",
      "Merhaba\n",
      "Hi\n",
      "Hello\n"
     ]
    }
   ],
   "source": [
    "#######################\n",
    "# Ön Tanımlı Argümanlar/Parametreler (Default Parameters/Arguments)\n",
    "#######################\n",
    "def say_hi(string=\"Merhaba\"):\n",
    "    print(string)\n",
    "    print(\"Hi\")\n",
    "    print(\"Hello\")\n",
    "\n",
    "\n",
    "say_hi(\"mrb\")\n",
    "say_hi()"
   ]
  },
  {
   "cell_type": "code",
   "execution_count": 12,
   "id": "d276dc0b-6399-4165-b657-a454f87f26f3",
   "metadata": {},
   "outputs": [
    {
     "data": {
      "text/plain": [
       "1.2125"
      ]
     },
     "execution_count": 12,
     "metadata": {},
     "output_type": "execute_result"
    }
   ],
   "source": [
    "#######################\n",
    "# Ne Zaman Fonksiyon Yazma İhtiyacımız Olur?\n",
    "#######################\n",
    "\n",
    "# varm, moisture, charge\n",
    "\n",
    "(56 + 15) / 80\n",
    "(17 + 45) / 70\n",
    "(52 + 45) / 80"
   ]
  },
  {
   "cell_type": "code",
   "execution_count": 13,
   "id": "f68d88cc-6e65-4339-bb66-65702f947c1b",
   "metadata": {},
   "outputs": [
    {
     "name": "stdout",
     "output_type": "stream",
     "text": [
      "1.4102564102564104\n"
     ]
    }
   ],
   "source": [
    "# DRY\n",
    "\n",
    "def calculate(varm, moisture, charge):\n",
    "    print((varm + moisture) / charge)\n",
    "\n",
    "\n",
    "calculate(98, 12, 78)"
   ]
  },
  {
   "cell_type": "code",
   "execution_count": 14,
   "id": "3d834580-ae9a-49c5-aed1-c5c5d74e2b8a",
   "metadata": {},
   "outputs": [],
   "source": [
    "#######################\n",
    "# Return: Fonksiyon Çıktılarını Girdi Olarak Kullanmak\n",
    "######################\n",
    "\n",
    "def calculate(varm, moisture, charge):\n",
    "    print((varm + moisture) / charge)\n",
    "\n",
    "\n",
    "# calculate(98, 12, 78) * 10\n",
    "\n",
    "def calculate(varm, moisture, charge):\n",
    "    return (varm + moisture) / charge\n",
    "\n",
    "\n",
    "calculate(98, 12, 78) * 10\n",
    "\n",
    "a = calculate(98, 12, 78)"
   ]
  },
  {
   "cell_type": "code",
   "execution_count": 15,
   "id": "4464fbe6-9135-4c30-9c86-b0a6c0f8a4f0",
   "metadata": {},
   "outputs": [],
   "source": [
    "def calculate(varm, moisture, charge):\n",
    "    varm = varm * 2\n",
    "    moisture = moisture * 2\n",
    "    charge = charge * 2\n",
    "    output = (varm + moisture) / charge\n",
    "    return varm, moisture, charge, output\n",
    "\n",
    "\n",
    "type(calculate(98, 12, 78))\n",
    "\n",
    "varma, moisturea, chargea, outputa = calculate(98, 12, 78)"
   ]
  },
  {
   "cell_type": "code",
   "execution_count": 16,
   "id": "be2fcf94-f930-4079-aee6-72c478158d16",
   "metadata": {},
   "outputs": [
    {
     "data": {
      "text/plain": [
       "80"
      ]
     },
     "execution_count": 16,
     "metadata": {},
     "output_type": "execute_result"
    }
   ],
   "source": [
    "#######################\n",
    "# Fonksiyon İçerisinden Fonksiyon Çağırmak\n",
    "######################\n",
    "\n",
    "def calculate(varm, moisture, charge):\n",
    "    return int((varm + moisture) / charge)\n",
    "\n",
    "\n",
    "calculate(90, 12, 12) * 10"
   ]
  },
  {
   "cell_type": "code",
   "execution_count": 17,
   "id": "39ef8d2e-e7ae-480b-93fa-45e118c75974",
   "metadata": {},
   "outputs": [
    {
     "name": "stdout",
     "output_type": "stream",
     "text": [
      "0.0\n"
     ]
    }
   ],
   "source": [
    "def standardization(a, p):\n",
    "    return a * 10 / 100 * p * p\n",
    "\n",
    "\n",
    "standardization(45, 1)\n",
    "\n",
    "\n",
    "def all_calculation(varm, moisture, charge, p):\n",
    "    a = calculate(varm, moisture, charge)\n",
    "    b = standardization(a, p)\n",
    "    print(b * 10)\n",
    "\n",
    "\n",
    "all_calculation(1, 3, 5, 12)"
   ]
  },
  {
   "cell_type": "code",
   "execution_count": 18,
   "id": "3ccce071-cbe2-4879-876f-15c2e6101006",
   "metadata": {},
   "outputs": [
    {
     "name": "stdout",
     "output_type": "stream",
     "text": [
      "0\n",
      "2735.9999999999995\n"
     ]
    }
   ],
   "source": [
    "def all_calculation(varm, moisture, charge, a, p):\n",
    "    print(calculate(varm, moisture, charge))\n",
    "    b = standardization(a, p)\n",
    "    print(b * 10)\n",
    "\n",
    "\n",
    "all_calculation(1, 3, 5, 19, 12)"
   ]
  },
  {
   "cell_type": "code",
   "execution_count": 19,
   "id": "1e00dd1a-c00b-4027-96d5-d64ff62e8564",
   "metadata": {},
   "outputs": [
    {
     "name": "stdout",
     "output_type": "stream",
     "text": [
      "[1, 2, 9]\n"
     ]
    }
   ],
   "source": [
    "#######################\n",
    "# Lokal & Global Değişkenler (Local & Global Variables)\n",
    "#######################\n",
    "\n",
    "list_store = [1, 2]\n",
    "\n",
    "def add_element(a, b):\n",
    "    c = a * b\n",
    "    list_store.append(c)\n",
    "    print(list_store)\n",
    "\n",
    "add_element(1, 9)"
   ]
  },
  {
   "cell_type": "markdown",
   "id": "ddbcdcd0-75d2-4a76-b9c5-4a7b2ca66a1c",
   "metadata": {},
   "source": [
    "## KOŞULLAR (CONDITIONS)"
   ]
  },
  {
   "cell_type": "code",
   "execution_count": 21,
   "id": "6b4dcd28-2904-4586-9cf3-5f6753be94fe",
   "metadata": {},
   "outputs": [
    {
     "name": "stdout",
     "output_type": "stream",
     "text": [
      "something\n"
     ]
    }
   ],
   "source": [
    "###############################################\n",
    "\n",
    "# True-False'u hatırlayalım.\n",
    "1 == 1\n",
    "1 == 2\n",
    "\n",
    "# if\n",
    "if 1 == 1:\n",
    "    print(\"something\")\n",
    "\n",
    "if 1 == 2:\n",
    "    print(\"something\")\n",
    "\n",
    "number = 11\n",
    "\n",
    "if number == 10:\n",
    "    print(\"number is 10\")\n",
    "\n",
    "number = 10\n",
    "number = 20\n",
    "\n",
    "\n",
    "def number_check(number):\n",
    "    if number == 10:\n",
    "        print(\"number is 10\")\n",
    "\n",
    "number_check(12)"
   ]
  },
  {
   "cell_type": "code",
   "execution_count": 22,
   "id": "8ed00e3f-b28e-4169-a19b-c0c9d477c614",
   "metadata": {},
   "outputs": [
    {
     "name": "stdout",
     "output_type": "stream",
     "text": [
      "number is not 10\n"
     ]
    }
   ],
   "source": [
    "#######################\n",
    "# else\n",
    "#######################\n",
    "\n",
    "def number_check(number):\n",
    "    if number == 10:\n",
    "        print(\"number is 10\")\n",
    "\n",
    "number_check(12)\n",
    "\n",
    "\n",
    "def number_check(number):\n",
    "    if number == 10:\n",
    "        print(\"number is 10\")\n",
    "    else:\n",
    "        print(\"number is not 10\")\n",
    "\n",
    "number_check(12)"
   ]
  },
  {
   "cell_type": "code",
   "execution_count": 23,
   "id": "a6a6050c-220c-4f3b-9c26-1aaadfc14e08",
   "metadata": {},
   "outputs": [
    {
     "name": "stdout",
     "output_type": "stream",
     "text": [
      "less than 10\n"
     ]
    }
   ],
   "source": [
    "#######################\n",
    "# elif\n",
    "#######################\n",
    "\n",
    "def number_check(number):\n",
    "    if number > 10:\n",
    "        print(\"greater than 10\")\n",
    "    elif number < 10:\n",
    "        print(\"less than 10\")\n",
    "    else:\n",
    "        print(\"equal to 10\")\n",
    "\n",
    "number_check(6)"
   ]
  },
  {
   "cell_type": "markdown",
   "id": "dbf8debd-1efe-433c-80f7-802e47d68d96",
   "metadata": {},
   "source": [
    "## DÖNGÜLER (LOOPS)"
   ]
  },
  {
   "cell_type": "code",
   "execution_count": 25,
   "id": "1011635d-5a1c-4064-b27c-affc1fc1e5d3",
   "metadata": {},
   "outputs": [
    {
     "name": "stdout",
     "output_type": "stream",
     "text": [
      "John\n",
      "Mark\n",
      "Venessa\n",
      "Mariam\n"
     ]
    }
   ],
   "source": [
    "###############################################\n",
    "# for loop\n",
    "\n",
    "students = [\"John\", \"Mark\", \"Venessa\", \"Mariam\"]\n",
    "\n",
    "students[0]\n",
    "students[1]\n",
    "students[2]\n",
    "\n",
    "for student in students:\n",
    "    print(student)"
   ]
  },
  {
   "cell_type": "code",
   "execution_count": 26,
   "id": "536ad430-5769-439b-bab1-7f79bcc15c9b",
   "metadata": {},
   "outputs": [
    {
     "name": "stdout",
     "output_type": "stream",
     "text": [
      "JOHN\n",
      "MARK\n",
      "VENESSA\n",
      "MARIAM\n"
     ]
    }
   ],
   "source": [
    "for student in students:\n",
    "    print(student.upper())"
   ]
  },
  {
   "cell_type": "code",
   "execution_count": 27,
   "id": "5724ecf5-d99b-4dd8-b898-e2c5a561ef71",
   "metadata": {},
   "outputs": [
    {
     "name": "stdout",
     "output_type": "stream",
     "text": [
      "1000\n",
      "2000\n",
      "3000\n",
      "4000\n",
      "5000\n",
      "**********************\n",
      "\n",
      "1200\n",
      "2400\n",
      "3600\n",
      "4800\n",
      "6000\n",
      "**********************\n",
      "\n",
      "1300\n",
      "2600\n",
      "3900\n",
      "5200\n",
      "6500\n",
      "**********************\n",
      "\n",
      "1500\n",
      "3000\n",
      "4500\n",
      "6000\n",
      "7500\n"
     ]
    }
   ],
   "source": [
    "salaries = [1000, 2000, 3000, 4000, 5000]\n",
    "\n",
    "for salary in salaries:\n",
    "    print(salary)\n",
    "    \n",
    "print(\"**********************\\n\")\n",
    "\n",
    "for salary in salaries:\n",
    "    print(int(salary*20/100 + salary))\n",
    "\n",
    "print(\"**********************\\n\")\n",
    "\n",
    "for salary in salaries:\n",
    "    print(int(salary*30/100 + salary))\n",
    "\n",
    "print(\"**********************\\n\")\n",
    "\n",
    "for salary in salaries:\n",
    "    print(int(salary*50/100 + salary))"
   ]
  },
  {
   "cell_type": "code",
   "execution_count": 28,
   "id": "11943476-ede9-4d25-aa8b-f610c90858c5",
   "metadata": {},
   "outputs": [
    {
     "data": {
      "text/plain": [
       "1650"
      ]
     },
     "execution_count": 28,
     "metadata": {},
     "output_type": "execute_result"
    }
   ],
   "source": [
    "def new_salary(salary, rate):\n",
    "    return int(salary*rate/100 + salary)\n",
    "\n",
    "new_salary(1500, 10)"
   ]
  },
  {
   "cell_type": "code",
   "execution_count": 29,
   "id": "5110891e-e5af-4b36-a486-dbe5c40dc112",
   "metadata": {},
   "outputs": [
    {
     "data": {
      "text/plain": [
       "2400"
      ]
     },
     "execution_count": 29,
     "metadata": {},
     "output_type": "execute_result"
    }
   ],
   "source": [
    "new_salary(2000, 20)"
   ]
  },
  {
   "cell_type": "code",
   "execution_count": 30,
   "id": "11f4726d-7793-4244-b5ec-448b35a00988",
   "metadata": {},
   "outputs": [
    {
     "name": "stdout",
     "output_type": "stream",
     "text": [
      "1200\n",
      "2400\n",
      "3600\n",
      "4800\n",
      "6000\n"
     ]
    }
   ],
   "source": [
    "for salary in salaries:\n",
    "    print(new_salary(salary, 20))"
   ]
  },
  {
   "cell_type": "code",
   "execution_count": 31,
   "id": "7a162339-6cdc-46a4-a55a-6439981c3ae1",
   "metadata": {},
   "outputs": [
    {
     "name": "stdout",
     "output_type": "stream",
     "text": [
      "12305\n",
      "28750\n",
      "34960\n",
      "46345\n",
      "57730\n"
     ]
    }
   ],
   "source": [
    "salaries2 = [10700, 25000, 30400, 40300, 50200]\n",
    "\n",
    "for salary in salaries2:\n",
    "    print(new_salary(salary, 15))"
   ]
  },
  {
   "cell_type": "code",
   "execution_count": 32,
   "id": "6a254c64-0d0f-4d14-bbde-55f8dec85285",
   "metadata": {},
   "outputs": [
    {
     "name": "stdout",
     "output_type": "stream",
     "text": [
      "1200\n",
      "2400\n",
      "3300\n",
      "4400\n",
      "5500\n"
     ]
    }
   ],
   "source": [
    "for salary in salaries:\n",
    "    if salary >= 3000:\n",
    "        print(new_salary(salary, 10))\n",
    "    else:\n",
    "        print(new_salary(salary, 20))"
   ]
  },
  {
   "cell_type": "code",
   "execution_count": 33,
   "id": "470e9e61-256f-481b-8508-abc9c02ecb35",
   "metadata": {},
   "outputs": [
    {
     "name": "stdout",
     "output_type": "stream",
     "text": [
      "0\n",
      "1\n",
      "2\n",
      "3\n",
      "4\n"
     ]
    }
   ],
   "source": [
    "#######################\n",
    "# Uygulama - Mülakat Sorusu\n",
    "#######################\n",
    "\n",
    "# Amaç: Aşağıdaki şekilde string değiştiren fonksiyon yazmak istiyoruz.\n",
    "\n",
    "# before: \"hi my name is john and i am learning python\"\n",
    "# after: \"Hi mY NaMe iS JoHn aNd i aM LeArNiNg pYtHoN\"\n",
    "\n",
    "range(len(\"miuul\"))\n",
    "range(0, 5)\n",
    "\n",
    "for i in range(len(\"miuul\")):\n",
    "    print(i)\n",
    "\n",
    "# 4 % 2 == 0\n",
    "# m = \"miuul\"\n",
    "# m[0]"
   ]
  },
  {
   "cell_type": "code",
   "execution_count": 34,
   "id": "12218d6d-218f-4ed6-94ae-5baa613604f7",
   "metadata": {},
   "outputs": [
    {
     "name": "stdout",
     "output_type": "stream",
     "text": [
      "MiUuL\n"
     ]
    }
   ],
   "source": [
    "def alternating(string):\n",
    "    new_string = \"\"\n",
    "    # girilen string'in index'lerinde gez.\n",
    "    for string_index in range(len(string)):\n",
    "        # index çift ise büyük harfe çevir.\n",
    "        if string_index % 2 == 0:\n",
    "            new_string += string[string_index].upper()\n",
    "        # index tek ise küçük harfe çevir.\n",
    "        else:\n",
    "            new_string += string[string_index].lower()\n",
    "    print(new_string)\n",
    "\n",
    "alternating(\"miuul\")"
   ]
  },
  {
   "cell_type": "code",
   "execution_count": 35,
   "id": "48b1528c-2179-427f-8268-434a5582e4cf",
   "metadata": {},
   "outputs": [
    {
     "name": "stdout",
     "output_type": "stream",
     "text": [
      "1000\n",
      "2000\n"
     ]
    }
   ],
   "source": [
    "#######################\n",
    "# break & continue & while\n",
    "#######################\n",
    "\n",
    "salaries = [1000, 2000, 3000, 4000, 5000]\n",
    "\n",
    "for salary in salaries:\n",
    "    if salary == 3000:\n",
    "        break\n",
    "    print(salary)"
   ]
  },
  {
   "cell_type": "code",
   "execution_count": 36,
   "id": "125547d5-79ac-4db8-ac8f-759165d34dc9",
   "metadata": {},
   "outputs": [
    {
     "name": "stdout",
     "output_type": "stream",
     "text": [
      "1000\n",
      "2000\n",
      "4000\n",
      "5000\n"
     ]
    }
   ],
   "source": [
    "for salary in salaries:\n",
    "    if salary == 3000:\n",
    "        continue\n",
    "    print(salary)"
   ]
  },
  {
   "cell_type": "code",
   "execution_count": 37,
   "id": "2e247896-4d6b-467b-8476-e859f0a4ef8a",
   "metadata": {},
   "outputs": [
    {
     "name": "stdout",
     "output_type": "stream",
     "text": [
      "1\n",
      "2\n",
      "3\n",
      "4\n"
     ]
    }
   ],
   "source": [
    "# while\n",
    "\n",
    "number = 1\n",
    "while number < 5:\n",
    "    print(number)\n",
    "    number += 1"
   ]
  },
  {
   "cell_type": "code",
   "execution_count": 38,
   "id": "52b54365-4c9d-4f47-ae49-5089b2ed1713",
   "metadata": {},
   "outputs": [
    {
     "name": "stdout",
     "output_type": "stream",
     "text": [
      "John\n",
      "Mark\n",
      "Venessa\n",
      "Mariam\n"
     ]
    }
   ],
   "source": [
    "#######################\n",
    "# Enumerate: Otomatik Counter/Indexer ile for loop\n",
    "#######################\n",
    "\n",
    "students = [\"John\", \"Mark\", \"Venessa\", \"Mariam\"]\n",
    "\n",
    "for student in students:\n",
    "    print(student)"
   ]
  },
  {
   "cell_type": "code",
   "execution_count": 39,
   "id": "ca1d599b-d2b3-45fb-9449-d218412dc7cd",
   "metadata": {},
   "outputs": [
    {
     "name": "stdout",
     "output_type": "stream",
     "text": [
      "0 John\n",
      "1 Mark\n",
      "2 Venessa\n",
      "3 Mariam\n"
     ]
    }
   ],
   "source": [
    "for index, student in enumerate(students):\n",
    "    print(index, student)"
   ]
  },
  {
   "cell_type": "code",
   "execution_count": 40,
   "id": "29e8b504-a1c1-4410-8869-805673673b1a",
   "metadata": {},
   "outputs": [],
   "source": [
    "A = []\n",
    "B = []\n",
    "\n",
    "for index, student in enumerate(students):\n",
    "    if index % 2 == 0:\n",
    "        A.append(student)\n",
    "    else:\n",
    "        B.append(student)"
   ]
  },
  {
   "cell_type": "code",
   "execution_count": 41,
   "id": "73e6f0ea-e4e6-4360-858b-997b52a663d9",
   "metadata": {},
   "outputs": [
    {
     "name": "stdout",
     "output_type": "stream",
     "text": [
      "[['John', 'Venessa'], ['Mark', 'Mariam']]\n"
     ]
    }
   ],
   "source": [
    "#######################\n",
    "# Uygulama - Mülakat Sorusu\n",
    "#######################\n",
    "# divide_students fonksiyonu yazınız.\n",
    "# Çift indexte yer alan öğrencileri bir listeye alınız.\n",
    "# Tek indexte yer alan öğrencileri başka bir listeye alınız.\n",
    "# Fakat bu iki liste tek bir liste olarak return olsun.\n",
    "\n",
    "students = [\"John\", \"Mark\", \"Venessa\", \"Mariam\"]\n",
    "\n",
    "\n",
    "def divide_students(students):\n",
    "    groups = [[], []]\n",
    "    for index, student in enumerate(students):\n",
    "        if index % 2 == 0:\n",
    "            groups[0].append(student)\n",
    "        else:\n",
    "            groups[1].append(student)\n",
    "    print(groups)\n",
    "    return groups\n",
    "\n",
    "st = divide_students(students)"
   ]
  },
  {
   "cell_type": "code",
   "execution_count": 42,
   "id": "a95a467e-c32b-43e6-b348-da9007ce7039",
   "metadata": {},
   "outputs": [
    {
     "data": {
      "text/plain": [
       "['John', 'Venessa']"
      ]
     },
     "execution_count": 42,
     "metadata": {},
     "output_type": "execute_result"
    }
   ],
   "source": [
    "st[0]"
   ]
  },
  {
   "cell_type": "code",
   "execution_count": 43,
   "id": "5ced01cc-7198-40f4-8ea0-ebc3d58be1b3",
   "metadata": {},
   "outputs": [
    {
     "data": {
      "text/plain": [
       "['Mark', 'Mariam']"
      ]
     },
     "execution_count": 43,
     "metadata": {},
     "output_type": "execute_result"
    }
   ],
   "source": [
    "st[1]"
   ]
  },
  {
   "cell_type": "code",
   "execution_count": 44,
   "id": "1002982c-ef56-456f-9496-e863feaa1e52",
   "metadata": {},
   "outputs": [
    {
     "name": "stdout",
     "output_type": "stream",
     "text": [
      "Hi mY NaMe iS JoHn aNd i aM LeArNiNg pYtHoN\n"
     ]
    }
   ],
   "source": [
    "#######################\n",
    "# alternating fonksiyonunun enumerate ile yazılması\n",
    "#######################\n",
    "\n",
    "def alternating_with_enumerate(string):\n",
    "    new_string = \"\"\n",
    "    for i, letter in enumerate(string):\n",
    "        if i % 2 == 0:\n",
    "            new_string += letter.upper()\n",
    "        else:\n",
    "            new_string += letter.lower()\n",
    "    print(new_string)\n",
    "\n",
    "alternating_with_enumerate(\"hi my name is john and i am learning python\")"
   ]
  },
  {
   "cell_type": "code",
   "execution_count": 45,
   "id": "970ecf79-a4bc-48c0-a062-27c9307086a4",
   "metadata": {},
   "outputs": [
    {
     "data": {
      "text/plain": [
       "[('John', 'mathematics', 23),\n",
       " ('Mark', 'statistics', 30),\n",
       " ('Venessa', 'physics', 26),\n",
       " ('Mariam', 'astronomy', 22)]"
      ]
     },
     "execution_count": 45,
     "metadata": {},
     "output_type": "execute_result"
    }
   ],
   "source": [
    "#######################\n",
    "# Zip\n",
    "#######################\n",
    "\n",
    "students = [\"John\", \"Mark\", \"Venessa\", \"Mariam\"]\n",
    "\n",
    "departments = [\"mathematics\", \"statistics\", \"physics\", \"astronomy\"]\n",
    "\n",
    "ages = [23, 30, 26, 22]\n",
    "\n",
    "list(zip(students, departments, ages))"
   ]
  },
  {
   "cell_type": "code",
   "execution_count": 46,
   "id": "f3ce85a8-9aa8-4344-9e08-2efe44e77145",
   "metadata": {},
   "outputs": [
    {
     "data": {
      "text/plain": [
       "9"
      ]
     },
     "execution_count": 46,
     "metadata": {},
     "output_type": "execute_result"
    }
   ],
   "source": [
    "###############################################\n",
    "# lambda, map, filter, reduce\n",
    "###############################################\n",
    "\n",
    "def summer(a, b):\n",
    "    return a + b\n",
    "\n",
    "summer(1, 3) * 9\n",
    "\n",
    "new_sum = lambda a, b: a + b\n",
    "\n",
    "new_sum(4, 5)"
   ]
  },
  {
   "cell_type": "code",
   "execution_count": 47,
   "id": "6e581ef0-0f88-40bf-b15e-ae1f9be6a8a0",
   "metadata": {},
   "outputs": [
    {
     "name": "stdout",
     "output_type": "stream",
     "text": [
      "1200.0\n",
      "2400.0\n",
      "3600.0\n",
      "4800.0\n",
      "6000.0\n"
     ]
    },
    {
     "data": {
      "text/plain": [
       "[1200.0, 2400.0, 3600.0, 4800.0, 6000.0]"
      ]
     },
     "execution_count": 47,
     "metadata": {},
     "output_type": "execute_result"
    }
   ],
   "source": [
    "# map\n",
    "salaries = [1000, 2000, 3000, 4000, 5000]\n",
    "\n",
    "def new_salary(x):\n",
    "    return x * 20 / 100 + x\n",
    "\n",
    "new_salary(5000)\n",
    "\n",
    "for salary in salaries:\n",
    "    print(new_salary(salary))\n",
    "\n",
    "list(map(new_salary, salaries))"
   ]
  },
  {
   "cell_type": "code",
   "execution_count": 48,
   "id": "62259eeb-5026-40bd-8109-a1189d11a202",
   "metadata": {},
   "outputs": [
    {
     "data": {
      "text/plain": [
       "10"
      ]
     },
     "execution_count": 48,
     "metadata": {},
     "output_type": "execute_result"
    }
   ],
   "source": [
    "# del new_sum\n",
    "list(map(lambda x: x * 20 / 100 + x, salaries))\n",
    "list(map(lambda x: x ** 2 , salaries))\n",
    "\n",
    "# FILTER\n",
    "list_store = [1, 2, 3, 4, 5, 6, 7, 8, 9, 10]\n",
    "list(filter(lambda x: x % 2 == 0, list_store))\n",
    "\n",
    "# REDUCE\n",
    "from functools import reduce\n",
    "list_store = [1, 2, 3, 4]\n",
    "reduce(lambda a, b: a + b, list_store)"
   ]
  },
  {
   "cell_type": "markdown",
   "id": "2d4fe112-1d79-49c4-86fa-a752aad95608",
   "metadata": {},
   "source": [
    "## COMPREHENSIONS"
   ]
  },
  {
   "cell_type": "code",
   "execution_count": 50,
   "id": "f4a13a38-edf9-4b63-bde7-c668bba07902",
   "metadata": {},
   "outputs": [
    {
     "name": "stdout",
     "output_type": "stream",
     "text": [
      "1200.0\n",
      "2400.0\n",
      "3600.0\n",
      "4800.0\n",
      "6000.0\n"
     ]
    }
   ],
   "source": [
    "#######################\n",
    "# List Comprehension\n",
    "#######################\n",
    "\n",
    "salaries = [1000, 2000, 3000, 4000, 5000]\n",
    "\n",
    "def new_salary(x):\n",
    "    return x * 20 / 100 + x\n",
    "\n",
    "for salary in salaries:\n",
    "    print(new_salary(salary))"
   ]
  },
  {
   "cell_type": "code",
   "execution_count": 51,
   "id": "4956f423-e3fc-4c85-9b7c-1cd9e12040a1",
   "metadata": {},
   "outputs": [],
   "source": [
    "null_list = []\n",
    "\n",
    "for salary in salaries:\n",
    "    null_list.append(new_salary(salary))"
   ]
  },
  {
   "cell_type": "code",
   "execution_count": 52,
   "id": "10e6935d-1565-4037-8f45-e9ab613a1e8e",
   "metadata": {},
   "outputs": [],
   "source": [
    "null_list = []\n",
    "\n",
    "for salary in salaries:\n",
    "    if salary > 3000:\n",
    "        null_list.append(new_salary(salary))\n",
    "    else:\n",
    "        null_list.append(new_salary(salary * 2))"
   ]
  },
  {
   "cell_type": "code",
   "execution_count": 53,
   "id": "beaedf27-da4f-4063-abf1-5305ef616308",
   "metadata": {},
   "outputs": [
    {
     "data": {
      "text/plain": [
       "[2400.0, 4800.0, 720.0, 960.0, 1200.0]"
      ]
     },
     "execution_count": 53,
     "metadata": {},
     "output_type": "execute_result"
    }
   ],
   "source": [
    "[new_salary(salary * 2) if salary < 3000 else new_salary(salary) for salary in salaries]\n",
    "[salary * 2 for salary in salaries]\n",
    "[salary * 2 for salary in salaries if salary < 3000]\n",
    "[salary * 2 if salary < 3000 else salary * 0 for salary in salaries]\n",
    "[new_salary(salary * 2) if salary < 3000 else new_salary(salary * 0.2) for salary in salaries]"
   ]
  },
  {
   "cell_type": "code",
   "execution_count": 54,
   "id": "5692f688-ddfe-422b-a8f7-ac262d1f7549",
   "metadata": {},
   "outputs": [
    {
     "data": {
      "text/plain": [
       "['john', 'MARK', 'venessa', 'MARIAM']"
      ]
     },
     "execution_count": 54,
     "metadata": {},
     "output_type": "execute_result"
    }
   ],
   "source": [
    "students = [\"John\", \"Mark\", \"Venessa\", \"Mariam\"]\n",
    "students_no = [\"John\", \"Venessa\"]\n",
    "\n",
    "\n",
    "[student.lower() if student in students_no else student.upper() for student in students]\n",
    "[student.upper() if student not in students_no else student.lower() for student in students]"
   ]
  },
  {
   "cell_type": "code",
   "execution_count": 55,
   "id": "15cc4c57-abbc-4b3a-9cd5-985be79e3a01",
   "metadata": {},
   "outputs": [
    {
     "data": {
      "text/plain": [
       "dict_items([('a', 1), ('b', 2), ('c', 3), ('d', 4)])"
      ]
     },
     "execution_count": 55,
     "metadata": {},
     "output_type": "execute_result"
    }
   ],
   "source": [
    "#######################\n",
    "# Dict Comprehension\n",
    "#######################\n",
    "\n",
    "dictionary = {'a': 1,\n",
    "              'b': 2,\n",
    "              'c': 3,\n",
    "              'd': 4}\n",
    "\n",
    "dictionary.keys()\n",
    "dictionary.values()\n",
    "dictionary.items()"
   ]
  },
  {
   "cell_type": "code",
   "execution_count": 56,
   "id": "864e0892-b7c2-44ae-a90b-645931ddd429",
   "metadata": {},
   "outputs": [
    {
     "data": {
      "text/plain": [
       "{'A': 2, 'B': 4, 'C': 6, 'D': 8}"
      ]
     },
     "execution_count": 56,
     "metadata": {},
     "output_type": "execute_result"
    }
   ],
   "source": [
    "{k: v ** 2 for (k, v) in dictionary.items()}\n",
    "\n",
    "{k.upper(): v for (k, v) in dictionary.items()}\n",
    "\n",
    "{k.upper(): v*2 for (k, v) in dictionary.items()}"
   ]
  },
  {
   "cell_type": "code",
   "execution_count": 57,
   "id": "a5f7a511-3164-4086-84b9-e90dbc50acd4",
   "metadata": {},
   "outputs": [
    {
     "data": {
      "text/plain": [
       "{0: 0, 2: 4, 4: 16, 6: 36, 8: 64}"
      ]
     },
     "execution_count": 57,
     "metadata": {},
     "output_type": "execute_result"
    }
   ],
   "source": [
    "#######################\n",
    "# Uygulama - Mülakat Sorusu\n",
    "#######################\n",
    "\n",
    "# Amaç: çift sayıların karesi alınarak bir sözlüğe eklenmek istemektedir\n",
    "# Key'ler orjinal değerler value'lar ise değiştirilmiş değerler olacak.\n",
    "\n",
    "\n",
    "numbers = range(10)\n",
    "new_dict = {}\n",
    "\n",
    "for n in numbers:\n",
    "    if n % 2 == 0:\n",
    "        new_dict[n] = n ** 2\n",
    "\n",
    "{n: n ** 2 for n in numbers if n % 2 == 0}"
   ]
  },
  {
   "cell_type": "code",
   "execution_count": 58,
   "id": "a6f859cd-ea69-4c18-a1ff-b4431c884455",
   "metadata": {},
   "outputs": [
    {
     "name": "stdout",
     "output_type": "stream",
     "text": [
      "TOTAL\n",
      "SPEEDING\n",
      "ALCOHOL\n",
      "NOT_DISTRACTED\n",
      "NO_PREVIOUS\n",
      "INS_PREMIUM\n",
      "INS_LOSSES\n",
      "ABBREV\n"
     ]
    }
   ],
   "source": [
    "#######################\n",
    "# List & Dict Comprehension Uygulamalar\n",
    "#######################\n",
    "\n",
    "#######################\n",
    "# Bir Veri Setindeki Değişken İsimlerini Değiştirmek\n",
    "#######################\n",
    "\n",
    "# before:\n",
    "# ['total', 'speeding', 'alcohol', 'not_distracted', 'no_previous', 'ins_premium', 'ins_losses', 'abbrev']\n",
    "\n",
    "# after:\n",
    "# ['TOTAL', 'SPEEDING', 'ALCOHOL', 'NOT_DISTRACTED', 'NO_PREVIOUS', 'INS_PREMIUM', 'INS_LOSSES', 'ABBREV']\n",
    "\n",
    "import seaborn as sns\n",
    "df = sns.load_dataset(\"car_crashes\")\n",
    "df.columns\n",
    "\n",
    "for col in df.columns:\n",
    "    print(col.upper())"
   ]
  },
  {
   "cell_type": "code",
   "execution_count": 59,
   "id": "4de82b96-51cd-4f3b-9754-802373edecf2",
   "metadata": {},
   "outputs": [],
   "source": [
    "A = []\n",
    "\n",
    "for col in df.columns:\n",
    "    A.append(col.upper())\n",
    "\n",
    "df.columns = A"
   ]
  },
  {
   "cell_type": "code",
   "execution_count": 60,
   "id": "d4f27cce-addc-4e1e-a3ac-d9ab8f796809",
   "metadata": {},
   "outputs": [],
   "source": [
    "df = sns.load_dataset(\"car_crashes\")\n",
    "\n",
    "df.columns = [col.upper() for col in df.columns]"
   ]
  },
  {
   "cell_type": "code",
   "execution_count": 61,
   "id": "88a9e952-1868-455e-823d-dd00bdfef224",
   "metadata": {},
   "outputs": [],
   "source": [
    "#######################\n",
    "# İsminde \"INS\" olan değişkenlerin başına FLAG diğerlerine NO_FLAG eklemek istiyoruz.\n",
    "#######################\n",
    "\n",
    "# before:\n",
    "# ['TOTAL',\n",
    "# 'SPEEDING',\n",
    "# 'ALCOHOL',\n",
    "# 'NOT_DISTRACTED',\n",
    "# 'NO_PREVIOUS',\n",
    "# 'INS_PREMIUM',\n",
    "# 'INS_LOSSES',\n",
    "# 'ABBREV']\n",
    "\n",
    "# after:\n",
    "# ['NO_FLAG_TOTAL',\n",
    "#  'NO_FLAG_SPEEDING',\n",
    "#  'NO_FLAG_ALCOHOL',\n",
    "#  'NO_FLAG_NOT_DISTRACTED',\n",
    "#  'NO_FLAG_NO_PREVIOUS',\n",
    "#  'FLAG_INS_PREMIUM',\n",
    "#  'FLAG_INS_LOSSES',\n",
    "#  'NO_FLAG_ABBREV']\n",
    "\n",
    "[col for col in df.columns if \"INS\" in col]\n",
    "\n",
    "[\"FLAG_\" + col for col in df.columns if \"INS\" in col]\n",
    "\n",
    "[\"FLAG_\" + col if \"INS\" in col else \"NO_FLAG_\" + col for col in df.columns]\n",
    "\n",
    "df.columns = [\"FLAG_\" + col if \"INS\" in col else \"NO_FLAG_\" + col for col in df.columns]"
   ]
  },
  {
   "cell_type": "code",
   "execution_count": 62,
   "id": "74f5bfcb-d645-4f1e-b420-b1ef6c460999",
   "metadata": {},
   "outputs": [
    {
     "data": {
      "text/html": [
       "<div>\n",
       "<style scoped>\n",
       "    .dataframe tbody tr th:only-of-type {\n",
       "        vertical-align: middle;\n",
       "    }\n",
       "\n",
       "    .dataframe tbody tr th {\n",
       "        vertical-align: top;\n",
       "    }\n",
       "\n",
       "    .dataframe thead th {\n",
       "        text-align: right;\n",
       "    }\n",
       "</style>\n",
       "<table border=\"1\" class=\"dataframe\">\n",
       "  <thead>\n",
       "    <tr style=\"text-align: right;\">\n",
       "      <th></th>\n",
       "      <th>total</th>\n",
       "      <th>speeding</th>\n",
       "      <th>alcohol</th>\n",
       "      <th>not_distracted</th>\n",
       "      <th>no_previous</th>\n",
       "      <th>ins_premium</th>\n",
       "      <th>ins_losses</th>\n",
       "    </tr>\n",
       "  </thead>\n",
       "  <tbody>\n",
       "    <tr>\n",
       "      <th>mean</th>\n",
       "      <td>15.790196</td>\n",
       "      <td>4.998196</td>\n",
       "      <td>4.886784</td>\n",
       "      <td>13.573176</td>\n",
       "      <td>14.004882</td>\n",
       "      <td>886.957647</td>\n",
       "      <td>134.493137</td>\n",
       "    </tr>\n",
       "    <tr>\n",
       "      <th>min</th>\n",
       "      <td>5.900000</td>\n",
       "      <td>1.792000</td>\n",
       "      <td>1.593000</td>\n",
       "      <td>1.760000</td>\n",
       "      <td>5.900000</td>\n",
       "      <td>641.960000</td>\n",
       "      <td>82.750000</td>\n",
       "    </tr>\n",
       "    <tr>\n",
       "      <th>max</th>\n",
       "      <td>23.900000</td>\n",
       "      <td>9.450000</td>\n",
       "      <td>10.038000</td>\n",
       "      <td>23.661000</td>\n",
       "      <td>21.280000</td>\n",
       "      <td>1301.520000</td>\n",
       "      <td>194.780000</td>\n",
       "    </tr>\n",
       "    <tr>\n",
       "      <th>sum</th>\n",
       "      <td>805.300000</td>\n",
       "      <td>254.908000</td>\n",
       "      <td>249.226000</td>\n",
       "      <td>692.232000</td>\n",
       "      <td>714.249000</td>\n",
       "      <td>45234.840000</td>\n",
       "      <td>6859.150000</td>\n",
       "    </tr>\n",
       "  </tbody>\n",
       "</table>\n",
       "</div>"
      ],
      "text/plain": [
       "           total    speeding     alcohol  not_distracted  no_previous  \\\n",
       "mean   15.790196    4.998196    4.886784       13.573176    14.004882   \n",
       "min     5.900000    1.792000    1.593000        1.760000     5.900000   \n",
       "max    23.900000    9.450000   10.038000       23.661000    21.280000   \n",
       "sum   805.300000  254.908000  249.226000      692.232000   714.249000   \n",
       "\n",
       "       ins_premium   ins_losses  \n",
       "mean    886.957647   134.493137  \n",
       "min     641.960000    82.750000  \n",
       "max    1301.520000   194.780000  \n",
       "sum   45234.840000  6859.150000  "
      ]
     },
     "execution_count": 62,
     "metadata": {},
     "output_type": "execute_result"
    }
   ],
   "source": [
    "#######################\n",
    "# Amaç key'i string, value'su aşağıdaki gibi bir liste olan sözlük oluşturmak.\n",
    "# Sadece sayısal değişkenler için yapmak istiyoruz.\n",
    "#######################\n",
    "\n",
    "# Output:\n",
    "# {'total': ['mean', 'min', 'max', 'var'],\n",
    "#  'speeding': ['mean', 'min', 'max', 'var'],\n",
    "#  'alcohol': ['mean', 'min', 'max', 'var'],\n",
    "#  'not_distracted': ['mean', 'min', 'max', 'var'],\n",
    "#  'no_previous': ['mean', 'min', 'max', 'var'],\n",
    "#  'ins_premium': ['mean', 'min', 'max', 'var'],\n",
    "#  'ins_losses': ['mean', 'min', 'max', 'var']}\n",
    "\n",
    "import seaborn as sns\n",
    "df = sns.load_dataset(\"car_crashes\")\n",
    "df.columns\n",
    "\n",
    "num_cols = [col for col in df.columns if df[col].dtype != \"O\"]\n",
    "soz = {}\n",
    "agg_list = [\"mean\", \"min\", \"max\", \"sum\"]\n",
    "\n",
    "for col in num_cols:\n",
    "    soz[col] = agg_list\n",
    "\n",
    "# kısa yol\n",
    "new_dict = {col: agg_list for col in num_cols}\n",
    "\n",
    "df[num_cols].head()\n",
    "\n",
    "df[num_cols].agg(new_dict)"
   ]
  }
 ],
 "metadata": {
  "kernelspec": {
   "display_name": "Python 3 (ipykernel)",
   "language": "python",
   "name": "python3"
  },
  "language_info": {
   "codemirror_mode": {
    "name": "ipython",
    "version": 3
   },
   "file_extension": ".py",
   "mimetype": "text/x-python",
   "name": "python",
   "nbconvert_exporter": "python",
   "pygments_lexer": "ipython3",
   "version": "3.12.4"
  }
 },
 "nbformat": 4,
 "nbformat_minor": 5
}
