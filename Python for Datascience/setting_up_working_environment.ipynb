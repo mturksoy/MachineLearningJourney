{
 "cells": [
  {
   "cell_type": "markdown",
   "id": "e8a8da04-27f6-4f14-b488-606237f065ce",
   "metadata": {},
   "source": [
    "## Sayılar (Numbers) ve Karakter Dizileri (Strings)"
   ]
  },
  {
   "cell_type": "code",
   "execution_count": 4,
   "id": "ec4741c6-5662-4a07-b706-8b744ded5ed0",
   "metadata": {},
   "outputs": [
    {
     "name": "stdout",
     "output_type": "stream",
     "text": [
      "Hello world\n",
      "Hello AI Era\n",
      "9\n",
      "<class 'float'>\n"
     ]
    },
    {
     "data": {
      "text/plain": [
       "str"
      ]
     },
     "execution_count": 4,
     "metadata": {},
     "output_type": "execute_result"
    }
   ],
   "source": [
    "print(\"Hello world\")\n",
    "print(\"Hello AI Era\")\n",
    "\n",
    "print(9)\n",
    "9.2\n",
    "print(type(9.2))\n",
    "type(\"Mrb\")"
   ]
  },
  {
   "cell_type": "markdown",
   "id": "b4193233-98d4-438b-ae4d-5bd6b2e16247",
   "metadata": {},
   "source": [
    "## Atamalar ve Değişkenler (Assignments & Variables)"
   ]
  },
  {
   "cell_type": "code",
   "execution_count": 11,
   "id": "75756c83-76f9-458f-8887-1bd03efba074",
   "metadata": {},
   "outputs": [
    {
     "name": "stdout",
     "output_type": "stream",
     "text": [
      "9\n",
      "hello ai era\n",
      "90\n",
      "90\n",
      "-1\n"
     ]
    }
   ],
   "source": [
    "a = 9\n",
    "print(a)\n",
    "\n",
    "b = \"hello ai era\"\n",
    "print(b)\n",
    "\n",
    "c = 10\n",
    "print(a * c)\n",
    "\n",
    "print(a * 10)\n",
    "\n",
    "d = a - c\n",
    "print(d)"
   ]
  },
  {
   "cell_type": "markdown",
   "id": "fcb0a5b2-f553-4625-a79d-92403ff7db9b",
   "metadata": {},
   "source": [
    "## Virtual Environment (Sanal Ortam)  ve (Package Managment) Paket Yönetimi"
   ]
  },
  {
   "cell_type": "code",
   "execution_count": 16,
   "id": "34540a55-d824-40d6-8ac4-b080ef39de2c",
   "metadata": {},
   "outputs": [],
   "source": [
    "# Sanal ortamların listelenmesi:\n",
    "# conda env list\n",
    "\n",
    "# Sanal ortam oluşturma:\n",
    "# conda create –n myenv\n",
    "\n",
    "# Sanal ortamı aktif etme:\n",
    "# conda activate myenv\n",
    "\n",
    "# Yüklü paketlerin listelenmesi:\n",
    "# conda list\n",
    "\n",
    "# Paket yükleme:\n",
    "# conda install numpy\n",
    "\n",
    "# Aynı anda birden fazla paket yükleme:\n",
    "# conda install numpy scipy pandas\n",
    "\n",
    "# Paket silme:\n",
    "# conda remove package_name\n",
    "\n",
    "# Belirli bir versiyona göre paket yükleme:\n",
    "# conda install numpy=1.20.1\n",
    "\n",
    "# Paket yükseltme:\n",
    "# conda upgrade numpy\n",
    "\n",
    "# Tüm paketlerin yükseltilmesi:\n",
    "# conda upgrade –all\n",
    "\n",
    "# pip: pypi (python package index) paket yönetim aracı\n",
    "\n",
    "# Paket yükleme:\n",
    "# pip install pandas\n",
    "\n",
    "# Paket yükleme versiyona göre:\n",
    "# pip install pandas==1.2.1"
   ]
  },
  {
   "cell_type": "markdown",
   "id": "b7b36124-ead4-4c4a-b51c-2a701ae93b6a",
   "metadata": {},
   "source": [
    "## Conda Kullanarak Sanal Ortam ve Bağımlılık Yönetimi"
   ]
  },
  {
   "cell_type": "code",
   "execution_count": 21,
   "id": "e500a81a-c122-40a4-bcdd-f300a2e1883c",
   "metadata": {},
   "outputs": [],
   "source": [
    "# 1. Conda ile Sanal Ortam Oluşturma\n",
    "# Terminal veya Komut İstemi'nde aşağıdaki komutu çalıştırarak sanal ortam oluşturabilirsiniz:\n",
    "# conda create --name myenv python=3.8\n",
    "# Bu komut, 'myenv' adında bir sanal ortam ve Python 3.8 yüklü bir ortam oluşturur.\n",
    "\n",
    "# 2. Sanal Ortamı Aktif Hale Getirme\n",
    "# Aşağıdaki komut ile sanal ortamı aktif hale getirebilirsiniz:\n",
    "# conda activate myenv\n",
    "\n",
    "# 3. Gerekli Kütüphaneleri Yükleme\n",
    "# Sanal ortam aktifken ihtiyaç duyduğunuz kütüphaneleri yükleyin:\n",
    "# pip install numpy pandas matplotlib\n",
    "# Bu, NumPy, Pandas ve Matplotlib kütüphanelerini kurar.\n",
    "\n",
    "# 4. `requirements.txt` Dosyası Oluşturma\n",
    "# Sanal ortamınızda yüklü olan tüm paketleri `requirements.txt` dosyasına kaydedin:\n",
    "# pip freeze > requirements.txt\n",
    "\n",
    "# 5. Başka Bir Ortamda Bağımlılıkları Yükleme\n",
    "# Yeni bir sanal ortam oluşturup bağımlılıkları yüklemek için aşağıdaki adımları takip edebilirsiniz:\n",
    "# conda create --name newenv python=3.8\n",
    "# conda activate newenv\n",
    "# pip install -r requirements.txt\n",
    "\n",
    "# 6. Jupyter Notebook'ta Sanal Ortamı Kullanma\n",
    "# 6.1. Sanal ortamda `ipykernel` paketini yükleyin:\n",
    "# pip install ipykernel\n",
    "\n",
    "# 6.2. Sanal ortamı Jupyter Notebook'a eklemek için aşağıdaki komutu çalıştırın:\n",
    "# python -m ipykernel install --user --name=myenv\n",
    "# 'myenv' ifadesi, Jupyter Notebook'ta gözükecek olan kernel ismi olacak.\n",
    "\n",
    "# 6.3. Jupyter Notebook'u açın ve `Kernel > Change Kernel` yolunu izleyerek oluşturduğunuz sanal ortamı seçin."
   ]
  },
  {
   "cell_type": "markdown",
   "id": "b10c36ee-33e4-4f82-832f-6acc6ca306ba",
   "metadata": {},
   "source": [
    "## pip ve venv Kullanarak Sanal Ortam ve Bağımlılık Yönetimi"
   ]
  },
  {
   "cell_type": "code",
   "execution_count": 24,
   "id": "8319a84d-f345-4180-8731-a0f82d58da8d",
   "metadata": {},
   "outputs": [],
   "source": [
    "# 1. venv ile Sanal Ortam Oluşturma\n",
    "# Terminal veya Komut İstemi'nde aşağıdaki komutu çalıştırarak sanal ortam oluşturabilirsiniz:\n",
    "# python -m venv myenv\n",
    "# Bu komut, 'myenv' adında bir sanal ortam oluşturur.\n",
    "\n",
    "# 2. Sanal Ortamı Aktif Hale Getirme\n",
    "# Aşağıdaki komut ile sanal ortamı aktif hale getirebilirsiniz:\n",
    "# Windows:\n",
    "# myenv\\Scripts\\activate\n",
    "# Mac/Linux:\n",
    "# source myenv/bin/activate\n",
    "\n",
    "# 3. Gerekli Kütüphaneleri Yükleme\n",
    "# Sanal ortam aktifken ihtiyaç duyduğunuz kütüphaneleri yükleyin:\n",
    "# pip install numpy pandas matplotlib\n",
    "# Bu, NumPy, Pandas ve Matplotlib kütüphanelerini kurar.\n",
    "\n",
    "# 4. `requirements.txt` Dosyası Oluşturma\n",
    "# Sanal ortamınızda yüklü olan tüm paketleri `requirements.txt` dosyasına kaydedin:\n",
    "# pip freeze > requirements.txt\n",
    "\n",
    "# 5. Başka Bir Ortamda Bağımlılıkları Yükleme\n",
    "# Yeni bir sanal ortam oluşturup bağımlılıkları yüklemek için aşağıdaki adımları takip edebilirsiniz:\n",
    "# python -m venv newenv\n",
    "# newenv\\Scripts\\activate  # (Windows) veya source newenv/bin/activate (Mac/Linux)\n",
    "# pip install -r requirements.txt\n",
    "\n",
    "# 6. Jupyter Notebook'ta Sanal Ortamı Kullanma\n",
    "# 6.1. Sanal ortamda `ipykernel` paketini yükleyin:\n",
    "# pip install ipykernel\n",
    "\n",
    "# 6.2. Sanal ortamı Jupyter Notebook'a eklemek için aşağıdaki komutu çalıştırın:\n",
    "# python -m ipykernel install --user --name=myenv\n",
    "# 'myenv' ifadesi, Jupyter Notebook'ta gözükecek olan kernel ismi olacak.\n",
    "\n",
    "# 6.3. Jupyter Notebook'u açın ve `Kernel > Change Kernel` yolunu izleyerek oluşturduğunuz sanal ortamı seçin."
   ]
  }
 ],
 "metadata": {
  "kernelspec": {
   "display_name": "Python 3 (ipykernel)",
   "language": "python",
   "name": "python3"
  },
  "language_info": {
   "codemirror_mode": {
    "name": "ipython",
    "version": 3
   },
   "file_extension": ".py",
   "mimetype": "text/x-python",
   "name": "python",
   "nbconvert_exporter": "python",
   "pygments_lexer": "ipython3",
   "version": "3.12.4"
  }
 },
 "nbformat": 4,
 "nbformat_minor": 5
}
