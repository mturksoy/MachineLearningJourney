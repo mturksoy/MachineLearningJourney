{
 "cells": [
  {
   "cell_type": "code",
   "execution_count": 1,
   "id": "2175db53-5169-433d-9eba-b92f07a76a61",
   "metadata": {},
   "outputs": [],
   "source": [
    "#pip install yellowbrick"
   ]
  },
  {
   "cell_type": "code",
   "execution_count": 2,
   "id": "f58c33f5-a0d5-406e-9f47-b7125220c4ce",
   "metadata": {},
   "outputs": [],
   "source": [
    "################################\n",
    "# Unsupervised Learning\n",
    "################################\n",
    "\n",
    "import numpy as np\n",
    "import pandas as pd\n",
    "import random\n",
    "import matplotlib.pyplot as plt\n",
    "from sklearn.cluster import KMeans\n",
    "from sklearn.preprocessing import MinMaxScaler\n",
    "from yellowbrick.cluster import KElbowVisualizer\n",
    "from scipy.cluster.hierarchy import linkage\n",
    "from scipy.cluster.hierarchy import dendrogram\n",
    "from sklearn.preprocessing import StandardScaler\n",
    "from sklearn.decomposition import PCA\n",
    "from sklearn.model_selection import cross_val_score, GridSearchCV\n",
    "from sklearn.preprocessing import LabelEncoder\n",
    "import seaborn as sns\n",
    "import warnings \n",
    "warnings.simplefilter(action='ignore', category=Warning)"
   ]
  },
  {
   "cell_type": "code",
   "execution_count": 3,
   "id": "bc3d3329-015f-468a-bb3a-c13b5235bdd3",
   "metadata": {},
   "outputs": [
    {
     "data": {
      "text/html": [
       "<div>\n",
       "<style scoped>\n",
       "    .dataframe tbody tr th:only-of-type {\n",
       "        vertical-align: middle;\n",
       "    }\n",
       "\n",
       "    .dataframe tbody tr th {\n",
       "        vertical-align: top;\n",
       "    }\n",
       "\n",
       "    .dataframe thead th {\n",
       "        text-align: right;\n",
       "    }\n",
       "</style>\n",
       "<table border=\"1\" class=\"dataframe\">\n",
       "  <thead>\n",
       "    <tr style=\"text-align: right;\">\n",
       "      <th></th>\n",
       "      <th>Murder</th>\n",
       "      <th>Assault</th>\n",
       "      <th>UrbanPop</th>\n",
       "      <th>Rape</th>\n",
       "    </tr>\n",
       "  </thead>\n",
       "  <tbody>\n",
       "    <tr>\n",
       "      <th>Alabama</th>\n",
       "      <td>13.2</td>\n",
       "      <td>236</td>\n",
       "      <td>58</td>\n",
       "      <td>21.2</td>\n",
       "    </tr>\n",
       "    <tr>\n",
       "      <th>Alaska</th>\n",
       "      <td>10.0</td>\n",
       "      <td>263</td>\n",
       "      <td>48</td>\n",
       "      <td>44.5</td>\n",
       "    </tr>\n",
       "    <tr>\n",
       "      <th>Arizona</th>\n",
       "      <td>8.1</td>\n",
       "      <td>294</td>\n",
       "      <td>80</td>\n",
       "      <td>31.0</td>\n",
       "    </tr>\n",
       "    <tr>\n",
       "      <th>Arkansas</th>\n",
       "      <td>8.8</td>\n",
       "      <td>190</td>\n",
       "      <td>50</td>\n",
       "      <td>19.5</td>\n",
       "    </tr>\n",
       "    <tr>\n",
       "      <th>California</th>\n",
       "      <td>9.0</td>\n",
       "      <td>276</td>\n",
       "      <td>91</td>\n",
       "      <td>40.6</td>\n",
       "    </tr>\n",
       "  </tbody>\n",
       "</table>\n",
       "</div>"
      ],
      "text/plain": [
       "            Murder  Assault  UrbanPop  Rape\n",
       "Alabama       13.2      236        58  21.2\n",
       "Alaska        10.0      263        48  44.5\n",
       "Arizona        8.1      294        80  31.0\n",
       "Arkansas       8.8      190        50  19.5\n",
       "California     9.0      276        91  40.6"
      ]
     },
     "execution_count": 3,
     "metadata": {},
     "output_type": "execute_result"
    }
   ],
   "source": [
    "################################\n",
    "# K-Means\n",
    "################################\n",
    "\n",
    "df = pd.read_csv(\"datasets/USArrests.csv\", index_col=0)\n",
    "\n",
    "df.head()"
   ]
  },
  {
   "cell_type": "code",
   "execution_count": 4,
   "id": "6e9778ae-a8eb-401f-aaa2-f18b9ae427b4",
   "metadata": {},
   "outputs": [
    {
     "data": {
      "text/plain": [
       "Murder      0\n",
       "Assault     0\n",
       "UrbanPop    0\n",
       "Rape        0\n",
       "dtype: int64"
      ]
     },
     "execution_count": 4,
     "metadata": {},
     "output_type": "execute_result"
    }
   ],
   "source": [
    "df.isnull().sum()"
   ]
  },
  {
   "cell_type": "code",
   "execution_count": 5,
   "id": "a39d2574-98c2-4bdf-b048-b2afbd371bf7",
   "metadata": {},
   "outputs": [
    {
     "name": "stdout",
     "output_type": "stream",
     "text": [
      "<class 'pandas.core.frame.DataFrame'>\n",
      "Index: 50 entries, Alabama to Wyoming\n",
      "Data columns (total 4 columns):\n",
      " #   Column    Non-Null Count  Dtype  \n",
      "---  ------    --------------  -----  \n",
      " 0   Murder    50 non-null     float64\n",
      " 1   Assault   50 non-null     int64  \n",
      " 2   UrbanPop  50 non-null     int64  \n",
      " 3   Rape      50 non-null     float64\n",
      "dtypes: float64(2), int64(2)\n",
      "memory usage: 2.0+ KB\n"
     ]
    }
   ],
   "source": [
    "df.info()"
   ]
  },
  {
   "cell_type": "code",
   "execution_count": 6,
   "id": "15edf600-1a06-44ee-8a93-4725327b8e4c",
   "metadata": {},
   "outputs": [
    {
     "data": {
      "text/html": [
       "<div>\n",
       "<style scoped>\n",
       "    .dataframe tbody tr th:only-of-type {\n",
       "        vertical-align: middle;\n",
       "    }\n",
       "\n",
       "    .dataframe tbody tr th {\n",
       "        vertical-align: top;\n",
       "    }\n",
       "\n",
       "    .dataframe thead th {\n",
       "        text-align: right;\n",
       "    }\n",
       "</style>\n",
       "<table border=\"1\" class=\"dataframe\">\n",
       "  <thead>\n",
       "    <tr style=\"text-align: right;\">\n",
       "      <th></th>\n",
       "      <th>count</th>\n",
       "      <th>mean</th>\n",
       "      <th>std</th>\n",
       "      <th>min</th>\n",
       "      <th>25%</th>\n",
       "      <th>50%</th>\n",
       "      <th>75%</th>\n",
       "      <th>max</th>\n",
       "    </tr>\n",
       "  </thead>\n",
       "  <tbody>\n",
       "    <tr>\n",
       "      <th>Murder</th>\n",
       "      <td>50.0</td>\n",
       "      <td>7.788</td>\n",
       "      <td>4.355510</td>\n",
       "      <td>0.8</td>\n",
       "      <td>4.075</td>\n",
       "      <td>7.25</td>\n",
       "      <td>11.250</td>\n",
       "      <td>17.4</td>\n",
       "    </tr>\n",
       "    <tr>\n",
       "      <th>Assault</th>\n",
       "      <td>50.0</td>\n",
       "      <td>170.760</td>\n",
       "      <td>83.337661</td>\n",
       "      <td>45.0</td>\n",
       "      <td>109.000</td>\n",
       "      <td>159.00</td>\n",
       "      <td>249.000</td>\n",
       "      <td>337.0</td>\n",
       "    </tr>\n",
       "    <tr>\n",
       "      <th>UrbanPop</th>\n",
       "      <td>50.0</td>\n",
       "      <td>65.540</td>\n",
       "      <td>14.474763</td>\n",
       "      <td>32.0</td>\n",
       "      <td>54.500</td>\n",
       "      <td>66.00</td>\n",
       "      <td>77.750</td>\n",
       "      <td>91.0</td>\n",
       "    </tr>\n",
       "    <tr>\n",
       "      <th>Rape</th>\n",
       "      <td>50.0</td>\n",
       "      <td>21.232</td>\n",
       "      <td>9.366385</td>\n",
       "      <td>7.3</td>\n",
       "      <td>15.075</td>\n",
       "      <td>20.10</td>\n",
       "      <td>26.175</td>\n",
       "      <td>46.0</td>\n",
       "    </tr>\n",
       "  </tbody>\n",
       "</table>\n",
       "</div>"
      ],
      "text/plain": [
       "          count     mean        std   min      25%     50%      75%    max\n",
       "Murder     50.0    7.788   4.355510   0.8    4.075    7.25   11.250   17.4\n",
       "Assault    50.0  170.760  83.337661  45.0  109.000  159.00  249.000  337.0\n",
       "UrbanPop   50.0   65.540  14.474763  32.0   54.500   66.00   77.750   91.0\n",
       "Rape       50.0   21.232   9.366385   7.3   15.075   20.10   26.175   46.0"
      ]
     },
     "execution_count": 6,
     "metadata": {},
     "output_type": "execute_result"
    }
   ],
   "source": [
    "df.describe().T"
   ]
  },
  {
   "cell_type": "code",
   "execution_count": 7,
   "id": "5621a3d4-7156-4bc3-b774-454b5f3e33a4",
   "metadata": {},
   "outputs": [
    {
     "data": {
      "text/plain": [
       "array([[0.74698795, 0.65410959, 0.44067797, 0.35917313],\n",
       "       [0.55421687, 0.74657534, 0.27118644, 0.96124031],\n",
       "       [0.43975904, 0.85273973, 0.81355932, 0.6124031 ],\n",
       "       [0.48192771, 0.49657534, 0.30508475, 0.31524548],\n",
       "       [0.4939759 , 0.79109589, 1.        , 0.86046512]])"
      ]
     },
     "execution_count": 7,
     "metadata": {},
     "output_type": "execute_result"
    }
   ],
   "source": [
    "sc = MinMaxScaler((0, 1))\n",
    "df = sc.fit_transform(df)\n",
    "df[0:5]"
   ]
  },
  {
   "cell_type": "code",
   "execution_count": 8,
   "id": "4ef49063-fc0c-4a75-9a00-208717cef91d",
   "metadata": {},
   "outputs": [
    {
     "data": {
      "text/plain": [
       "{'algorithm': 'lloyd',\n",
       " 'copy_x': True,\n",
       " 'init': 'k-means++',\n",
       " 'max_iter': 300,\n",
       " 'n_clusters': 4,\n",
       " 'n_init': 'auto',\n",
       " 'random_state': 17,\n",
       " 'tol': 0.0001,\n",
       " 'verbose': 0}"
      ]
     },
     "execution_count": 8,
     "metadata": {},
     "output_type": "execute_result"
    }
   ],
   "source": [
    "kmeans = KMeans(n_clusters=4, random_state=17).fit(df)\n",
    "kmeans.get_params()"
   ]
  },
  {
   "cell_type": "code",
   "execution_count": 9,
   "id": "c2bdf5ea-d034-4d8c-a64d-db36937f469c",
   "metadata": {},
   "outputs": [
    {
     "name": "stdout",
     "output_type": "stream",
     "text": [
      "Number of Cluster:  4\n",
      "Cluster Centers:  [[0.1686747  0.11485774 0.34028683 0.12601868]\n",
      " [0.6124498  0.75       0.75423729 0.67980189]\n",
      " [0.30439405 0.32937147 0.70588235 0.31098951]\n",
      " [0.79141566 0.6802226  0.36864407 0.36466408]]\n",
      "Labels:  [3 1 1 3 1 1 2 2 1 3 2 0 1 2 0 2 0 3 0 1 2 1 0 3 2 0 0 1 0 2 1 1 3 0 2 2 2\n",
      " 2 2 3 0 3 1 2 0 2 2 0 0 2]\n",
      "Inertia:  3.683456153585913\n"
     ]
    }
   ],
   "source": [
    "print(\"Number of Cluster: \", kmeans.n_clusters)\n",
    "print(\"Cluster Centers: \", kmeans.cluster_centers_)\n",
    "print(\"Labels: \", kmeans.labels_)\n",
    "print(\"Inertia: \", kmeans.inertia_)"
   ]
  },
  {
   "cell_type": "code",
   "execution_count": 10,
   "id": "bba967fa-180c-4ebb-af60-913253c983b1",
   "metadata": {},
   "outputs": [],
   "source": [
    "################################\n",
    "# Optimum Küme Sayısının Belirlenmesi\n",
    "################################\n",
    "\n",
    "kmeans = KMeans()\n",
    "ssd = []\n",
    "K = range(1, 30)"
   ]
  },
  {
   "cell_type": "code",
   "execution_count": 11,
   "id": "de70df07-5159-4335-9ca7-580e729b5824",
   "metadata": {},
   "outputs": [],
   "source": [
    "for k in K:\n",
    "    kmeans = KMeans(n_clusters=k).fit(df)\n",
    "    ssd.append(kmeans.inertia_)"
   ]
  },
  {
   "cell_type": "code",
   "execution_count": 12,
   "id": "e46563b8-f97a-4e5b-b74c-48d30f4659ae",
   "metadata": {},
   "outputs": [
    {
     "data": {
      "image/png": "[encoded data removed]",
      "text/plain": [
       "<Figure size 800x550 with 1 Axes>"
      ]
     },
     "metadata": {},
     "output_type": "display_data"
    }
   ],
   "source": [
    "#Düzleşmeye başladğı yer optimum noktadır\n",
    "plt.plot(K, ssd, \"bx-\")\n",
    "plt.xlabel(\"Farklı K Değerlerine Karşılık SSE/SSR/SSD\")\n",
    "plt.title(\"Optimum Küme sayısı için Elbow Yöntemi\")\n",
    "plt.xlabel(\"K Value\")\n",
    "plt.ylabel(\"SSD Value\")\n",
    "plt.show()"
   ]
  },
  {
   "cell_type": "code",
   "execution_count": 13,
   "id": "70f90565-2cb8-48c4-9820-da16cf271535",
   "metadata": {},
   "outputs": [
    {
     "data": {
      "image/png": "[encoded data removed]",
      "text/plain": [
       "<Figure size 800x550 with 2 Axes>"
      ]
     },
     "metadata": {},
     "output_type": "display_data"
    },
    {
     "data": {
      "text/plain": [
       "<Axes: title={'center': 'Distortion Score Elbow for KMeans Clustering'}, xlabel='k', ylabel='distortion score'>"
      ]
     },
     "execution_count": 13,
     "metadata": {},
     "output_type": "execute_result"
    }
   ],
   "source": [
    "kmeans = KMeans()\n",
    "elbow = KElbowVisualizer(kmeans, k=(2, 20))\n",
    "elbow.fit(df)\n",
    "elbow.show()"
   ]
  },
  {
   "cell_type": "code",
   "execution_count": 14,
   "id": "37a49fea-17c4-45b1-aad6-9d163afd9bfb",
   "metadata": {},
   "outputs": [
    {
     "data": {
      "text/plain": [
       "6"
      ]
     },
     "execution_count": 14,
     "metadata": {},
     "output_type": "execute_result"
    }
   ],
   "source": [
    "elbow.elbow_value_"
   ]
  },
  {
   "cell_type": "code",
   "execution_count": 15,
   "id": "6b3a86e9-e7bf-46b9-bc92-4f55064652b4",
   "metadata": {},
   "outputs": [
    {
     "name": "stdout",
     "output_type": "stream",
     "text": [
      "Number of Clusters:  6\n",
      "Cluster Centers:  [[0.60374833 0.78348554 0.71751412 0.75222509]\n",
      " [0.25301205 0.29474886 0.72542373 0.28440999]\n",
      " [0.42369478 0.32420091 0.42655367 0.28294574]\n",
      " [0.72289157 0.60188356 0.64830508 0.45704134]\n",
      " [0.8253012  0.84474886 0.23163842 0.29112834]\n",
      " [0.11311914 0.08523592 0.29378531 0.08182601]]\n",
      "Labels:  [3 0 0 2 0 0 1 1 0 3 1 5 3 2 5 1 2 3 5 0 1 0 1 4 3 2 1 0 5 1 0 3 4 5 1 1 1\n",
      " 1 1 4 5 3 3 1 5 2 1 5 5 2]\n"
     ]
    }
   ],
   "source": [
    "################################\n",
    "# Final Cluster'ların Oluşturulması\n",
    "################################\n",
    "\n",
    "kmeans = KMeans(n_clusters=elbow.elbow_value_).fit(df)\n",
    "\n",
    "print(\"Number of Clusters: \", kmeans.n_clusters)\n",
    "print(\"Cluster Centers: \", kmeans.cluster_centers_)\n",
    "print(\"Labels: \", kmeans.labels_)"
   ]
  },
  {
   "cell_type": "code",
   "execution_count": 16,
   "id": "7a46ae33-e8d7-47c6-888e-c10179981c10",
   "metadata": {},
   "outputs": [
    {
     "data": {
      "text/plain": [
       "array([[0.74698795, 0.65410959, 0.44067797, 0.35917313],\n",
       "       [0.55421687, 0.74657534, 0.27118644, 0.96124031],\n",
       "       [0.43975904, 0.85273973, 0.81355932, 0.6124031 ],\n",
       "       [0.48192771, 0.49657534, 0.30508475, 0.31524548],\n",
       "       [0.4939759 , 0.79109589, 1.        , 0.86046512]])"
      ]
     },
     "execution_count": 16,
     "metadata": {},
     "output_type": "execute_result"
    }
   ],
   "source": [
    "df[0:5]"
   ]
  },
  {
   "cell_type": "code",
   "execution_count": 17,
   "id": "553dba38-e31c-4a5d-8c23-886b2140c03d",
   "metadata": {},
   "outputs": [],
   "source": [
    "clusters_kmeans = kmeans.labels_"
   ]
  },
  {
   "cell_type": "code",
   "execution_count": 18,
   "id": "b4ce65cc-b758-4042-b929-8971ef0280cc",
   "metadata": {},
   "outputs": [],
   "source": [
    "df = pd.read_csv(\"datasets/USArrests.csv\", index_col=0)\n",
    "\n",
    "df[\"cluster\"] = clusters_kmeans"
   ]
  },
  {
   "cell_type": "code",
   "execution_count": 19,
   "id": "b3d6edac-5989-4f79-b275-848cd4e2a1e0",
   "metadata": {},
   "outputs": [
    {
     "data": {
      "text/html": [
       "<div>\n",
       "<style scoped>\n",
       "    .dataframe tbody tr th:only-of-type {\n",
       "        vertical-align: middle;\n",
       "    }\n",
       "\n",
       "    .dataframe tbody tr th {\n",
       "        vertical-align: top;\n",
       "    }\n",
       "\n",
       "    .dataframe thead th {\n",
       "        text-align: right;\n",
       "    }\n",
       "</style>\n",
       "<table border=\"1\" class=\"dataframe\">\n",
       "  <thead>\n",
       "    <tr style=\"text-align: right;\">\n",
       "      <th></th>\n",
       "      <th>Murder</th>\n",
       "      <th>Assault</th>\n",
       "      <th>UrbanPop</th>\n",
       "      <th>Rape</th>\n",
       "      <th>cluster</th>\n",
       "    </tr>\n",
       "  </thead>\n",
       "  <tbody>\n",
       "    <tr>\n",
       "      <th>Alabama</th>\n",
       "      <td>13.2</td>\n",
       "      <td>236</td>\n",
       "      <td>58</td>\n",
       "      <td>21.2</td>\n",
       "      <td>3</td>\n",
       "    </tr>\n",
       "    <tr>\n",
       "      <th>Alaska</th>\n",
       "      <td>10.0</td>\n",
       "      <td>263</td>\n",
       "      <td>48</td>\n",
       "      <td>44.5</td>\n",
       "      <td>0</td>\n",
       "    </tr>\n",
       "    <tr>\n",
       "      <th>Arizona</th>\n",
       "      <td>8.1</td>\n",
       "      <td>294</td>\n",
       "      <td>80</td>\n",
       "      <td>31.0</td>\n",
       "      <td>0</td>\n",
       "    </tr>\n",
       "    <tr>\n",
       "      <th>Arkansas</th>\n",
       "      <td>8.8</td>\n",
       "      <td>190</td>\n",
       "      <td>50</td>\n",
       "      <td>19.5</td>\n",
       "      <td>2</td>\n",
       "    </tr>\n",
       "    <tr>\n",
       "      <th>California</th>\n",
       "      <td>9.0</td>\n",
       "      <td>276</td>\n",
       "      <td>91</td>\n",
       "      <td>40.6</td>\n",
       "      <td>0</td>\n",
       "    </tr>\n",
       "  </tbody>\n",
       "</table>\n",
       "</div>"
      ],
      "text/plain": [
       "            Murder  Assault  UrbanPop  Rape  cluster\n",
       "Alabama       13.2      236        58  21.2        3\n",
       "Alaska        10.0      263        48  44.5        0\n",
       "Arizona        8.1      294        80  31.0        0\n",
       "Arkansas       8.8      190        50  19.5        2\n",
       "California     9.0      276        91  40.6        0"
      ]
     },
     "execution_count": 19,
     "metadata": {},
     "output_type": "execute_result"
    }
   ],
   "source": [
    "df.head()"
   ]
  },
  {
   "cell_type": "code",
   "execution_count": 20,
   "id": "c5bc74fc-f881-4f7d-a9b1-3d736aaef762",
   "metadata": {},
   "outputs": [
    {
     "data": {
      "text/html": [
       "<div>\n",
       "<style scoped>\n",
       "    .dataframe tbody tr th:only-of-type {\n",
       "        vertical-align: middle;\n",
       "    }\n",
       "\n",
       "    .dataframe tbody tr th {\n",
       "        vertical-align: top;\n",
       "    }\n",
       "\n",
       "    .dataframe thead th {\n",
       "        text-align: right;\n",
       "    }\n",
       "</style>\n",
       "<table border=\"1\" class=\"dataframe\">\n",
       "  <thead>\n",
       "    <tr style=\"text-align: right;\">\n",
       "      <th></th>\n",
       "      <th>Murder</th>\n",
       "      <th>Assault</th>\n",
       "      <th>UrbanPop</th>\n",
       "      <th>Rape</th>\n",
       "      <th>cluster</th>\n",
       "    </tr>\n",
       "  </thead>\n",
       "  <tbody>\n",
       "    <tr>\n",
       "      <th>Mississippi</th>\n",
       "      <td>16.1</td>\n",
       "      <td>259</td>\n",
       "      <td>44</td>\n",
       "      <td>17.1</td>\n",
       "      <td>5</td>\n",
       "    </tr>\n",
       "    <tr>\n",
       "      <th>North Carolina</th>\n",
       "      <td>13.0</td>\n",
       "      <td>337</td>\n",
       "      <td>45</td>\n",
       "      <td>16.1</td>\n",
       "      <td>5</td>\n",
       "    </tr>\n",
       "    <tr>\n",
       "      <th>South Carolina</th>\n",
       "      <td>14.4</td>\n",
       "      <td>279</td>\n",
       "      <td>48</td>\n",
       "      <td>22.5</td>\n",
       "      <td>5</td>\n",
       "    </tr>\n",
       "  </tbody>\n",
       "</table>\n",
       "</div>"
      ],
      "text/plain": [
       "                Murder  Assault  UrbanPop  Rape  cluster\n",
       "Mississippi       16.1      259        44  17.1        5\n",
       "North Carolina    13.0      337        45  16.1        5\n",
       "South Carolina    14.4      279        48  22.5        5"
      ]
     },
     "execution_count": 20,
     "metadata": {},
     "output_type": "execute_result"
    }
   ],
   "source": [
    "df[\"cluster\"] = df[\"cluster\"] + 1\n",
    "\n",
    "df[df[\"cluster\"]==5]"
   ]
  },
  {
   "cell_type": "code",
   "execution_count": 21,
   "id": "aaf8664f-cbf4-42e5-9bf4-ad3e29d97825",
   "metadata": {},
   "outputs": [
    {
     "data": {
      "text/html": [
       "<div>\n",
       "<style scoped>\n",
       "    .dataframe tbody tr th:only-of-type {\n",
       "        vertical-align: middle;\n",
       "    }\n",
       "\n",
       "    .dataframe tbody tr th {\n",
       "        vertical-align: top;\n",
       "    }\n",
       "\n",
       "    .dataframe thead tr th {\n",
       "        text-align: left;\n",
       "    }\n",
       "\n",
       "    .dataframe thead tr:last-of-type th {\n",
       "        text-align: right;\n",
       "    }\n",
       "</style>\n",
       "<table border=\"1\" class=\"dataframe\">\n",
       "  <thead>\n",
       "    <tr>\n",
       "      <th></th>\n",
       "      <th colspan=\"3\" halign=\"left\">Murder</th>\n",
       "      <th colspan=\"3\" halign=\"left\">Assault</th>\n",
       "      <th colspan=\"3\" halign=\"left\">UrbanPop</th>\n",
       "      <th colspan=\"3\" halign=\"left\">Rape</th>\n",
       "    </tr>\n",
       "    <tr>\n",
       "      <th></th>\n",
       "      <th>count</th>\n",
       "      <th>mean</th>\n",
       "      <th>median</th>\n",
       "      <th>count</th>\n",
       "      <th>mean</th>\n",
       "      <th>median</th>\n",
       "      <th>count</th>\n",
       "      <th>mean</th>\n",
       "      <th>median</th>\n",
       "      <th>count</th>\n",
       "      <th>mean</th>\n",
       "      <th>median</th>\n",
       "    </tr>\n",
       "    <tr>\n",
       "      <th>cluster</th>\n",
       "      <th></th>\n",
       "      <th></th>\n",
       "      <th></th>\n",
       "      <th></th>\n",
       "      <th></th>\n",
       "      <th></th>\n",
       "      <th></th>\n",
       "      <th></th>\n",
       "      <th></th>\n",
       "      <th></th>\n",
       "      <th></th>\n",
       "      <th></th>\n",
       "    </tr>\n",
       "  </thead>\n",
       "  <tbody>\n",
       "    <tr>\n",
       "      <th>1</th>\n",
       "      <td>9</td>\n",
       "      <td>10.822222</td>\n",
       "      <td>11.30</td>\n",
       "      <td>9</td>\n",
       "      <td>273.777778</td>\n",
       "      <td>276.0</td>\n",
       "      <td>9</td>\n",
       "      <td>74.333333</td>\n",
       "      <td>78.0</td>\n",
       "      <td>9</td>\n",
       "      <td>36.411111</td>\n",
       "      <td>35.10</td>\n",
       "    </tr>\n",
       "    <tr>\n",
       "      <th>2</th>\n",
       "      <td>15</td>\n",
       "      <td>5.000000</td>\n",
       "      <td>4.90</td>\n",
       "      <td>15</td>\n",
       "      <td>131.066667</td>\n",
       "      <td>120.0</td>\n",
       "      <td>15</td>\n",
       "      <td>74.800000</td>\n",
       "      <td>73.0</td>\n",
       "      <td>15</td>\n",
       "      <td>18.306667</td>\n",
       "      <td>18.00</td>\n",
       "    </tr>\n",
       "    <tr>\n",
       "      <th>3</th>\n",
       "      <td>6</td>\n",
       "      <td>7.833333</td>\n",
       "      <td>7.85</td>\n",
       "      <td>6</td>\n",
       "      <td>139.666667</td>\n",
       "      <td>134.5</td>\n",
       "      <td>6</td>\n",
       "      <td>57.166667</td>\n",
       "      <td>56.5</td>\n",
       "      <td>6</td>\n",
       "      <td>18.250000</td>\n",
       "      <td>17.95</td>\n",
       "    </tr>\n",
       "    <tr>\n",
       "      <th>4</th>\n",
       "      <td>8</td>\n",
       "      <td>12.800000</td>\n",
       "      <td>12.95</td>\n",
       "      <td>8</td>\n",
       "      <td>220.750000</td>\n",
       "      <td>223.5</td>\n",
       "      <td>8</td>\n",
       "      <td>70.250000</td>\n",
       "      <td>68.0</td>\n",
       "      <td>8</td>\n",
       "      <td>24.987500</td>\n",
       "      <td>25.65</td>\n",
       "    </tr>\n",
       "    <tr>\n",
       "      <th>5</th>\n",
       "      <td>3</td>\n",
       "      <td>14.500000</td>\n",
       "      <td>14.40</td>\n",
       "      <td>3</td>\n",
       "      <td>291.666667</td>\n",
       "      <td>279.0</td>\n",
       "      <td>3</td>\n",
       "      <td>45.666667</td>\n",
       "      <td>45.0</td>\n",
       "      <td>3</td>\n",
       "      <td>18.566667</td>\n",
       "      <td>17.10</td>\n",
       "    </tr>\n",
       "    <tr>\n",
       "      <th>6</th>\n",
       "      <td>9</td>\n",
       "      <td>2.677778</td>\n",
       "      <td>2.20</td>\n",
       "      <td>9</td>\n",
       "      <td>69.888889</td>\n",
       "      <td>57.0</td>\n",
       "      <td>9</td>\n",
       "      <td>49.333333</td>\n",
       "      <td>51.0</td>\n",
       "      <td>9</td>\n",
       "      <td>10.466667</td>\n",
       "      <td>10.80</td>\n",
       "    </tr>\n",
       "  </tbody>\n",
       "</table>\n",
       "</div>"
      ],
      "text/plain": [
       "        Murder                   Assault                    UrbanPop  \\\n",
       "         count       mean median   count        mean median    count   \n",
       "cluster                                                                \n",
       "1            9  10.822222  11.30       9  273.777778  276.0        9   \n",
       "2           15   5.000000   4.90      15  131.066667  120.0       15   \n",
       "3            6   7.833333   7.85       6  139.666667  134.5        6   \n",
       "4            8  12.800000  12.95       8  220.750000  223.5        8   \n",
       "5            3  14.500000  14.40       3  291.666667  279.0        3   \n",
       "6            9   2.677778   2.20       9   69.888889   57.0        9   \n",
       "\n",
       "                           Rape                    \n",
       "              mean median count       mean median  \n",
       "cluster                                            \n",
       "1        74.333333   78.0     9  36.411111  35.10  \n",
       "2        74.800000   73.0    15  18.306667  18.00  \n",
       "3        57.166667   56.5     6  18.250000  17.95  \n",
       "4        70.250000   68.0     8  24.987500  25.65  \n",
       "5        45.666667   45.0     3  18.566667  17.10  \n",
       "6        49.333333   51.0     9  10.466667  10.80  "
      ]
     },
     "execution_count": 21,
     "metadata": {},
     "output_type": "execute_result"
    }
   ],
   "source": [
    "df.groupby(\"cluster\").agg([\"count\",\"mean\",\"median\"])"
   ]
  },
  {
   "cell_type": "code",
   "execution_count": 22,
   "id": "70f1166c-69c0-472f-bca3-b95ecdcd8fd8",
   "metadata": {},
   "outputs": [],
   "source": [
    "df.to_csv(\"clusters.csv\")"
   ]
  },
  {
   "cell_type": "code",
   "execution_count": 23,
   "id": "b2b57c2c-95e7-450e-bcff-7c3043c5bc5a",
   "metadata": {},
   "outputs": [],
   "source": [
    "################################\n",
    "# Hierarchical Clustering\n",
    "################################\n",
    "\n",
    "df = pd.read_csv(\"datasets/USArrests.csv\", index_col=0)\n",
    "\n",
    "sc = MinMaxScaler((0, 1))\n",
    "df = sc.fit_transform(df)"
   ]
  },
  {
   "cell_type": "code",
   "execution_count": 24,
   "id": "da8274de-ff1a-4e2d-819b-20506216490c",
   "metadata": {},
   "outputs": [
    {
     "data": {
      "image/png": "[encoded data removed]",
      "text/plain": [
       "<Figure size 1000x500 with 1 Axes>"
      ]
     },
     "metadata": {},
     "output_type": "display_data"
    }
   ],
   "source": [
    "hc_average = linkage(df, \"average\")\n",
    "\n",
    "plt.figure(figsize=(10, 5))\n",
    "plt.title(\"Hiyerarşik Kümeleme Dendogramı\")\n",
    "plt.xlabel(\"Gözlem Birimleri\")\n",
    "plt.ylabel(\"Uzaklıklar\")\n",
    "dendrogram(hc_average,\n",
    "           leaf_font_size=10)\n",
    "plt.show()"
   ]
  },
  {
   "cell_type": "code",
   "execution_count": 25,
   "id": "7c221d4c-de25-4891-bc7e-c787e04f89d4",
   "metadata": {},
   "outputs": [
    {
     "data": {
      "image/png": "[encoded data removed]",
      "text/plain": [
       "<Figure size 700x500 with 1 Axes>"
      ]
     },
     "metadata": {},
     "output_type": "display_data"
    }
   ],
   "source": [
    "plt.figure(figsize=(7, 5))\n",
    "plt.title(\"Hiyerarşik Kümeleme Dendogramı\")\n",
    "plt.xlabel(\"Gözlem Birimleri\")\n",
    "plt.ylabel(\"Uzaklıklar\")\n",
    "dendrogram(hc_average,\n",
    "           truncate_mode=\"lastp\",\n",
    "           p=10,\n",
    "           show_contracted=True,\n",
    "           leaf_font_size=10)\n",
    "plt.show()"
   ]
  },
  {
   "cell_type": "code",
   "execution_count": 26,
   "id": "cb40583b-3faf-4bcc-adf6-8c9b71baa911",
   "metadata": {},
   "outputs": [
    {
     "data": {
      "image/png": "[encoded data removed]",
      "text/plain": [
       "<Figure size 700x500 with 1 Axes>"
      ]
     },
     "metadata": {},
     "output_type": "display_data"
    }
   ],
   "source": [
    "################################\n",
    "# Kume Sayısını Belirlemek\n",
    "################################\n",
    "\n",
    "\n",
    "plt.figure(figsize=(7, 5))\n",
    "plt.title(\"Dendrograms\")\n",
    "dend = dendrogram(hc_average)\n",
    "plt.axhline(y=0.5, color='r', linestyle='--')\n",
    "plt.axhline(y=0.6, color='b', linestyle='--')\n",
    "plt.show()"
   ]
  },
  {
   "cell_type": "code",
   "execution_count": 27,
   "id": "efe18c71-0e43-4367-81b5-cf8ecac1d008",
   "metadata": {},
   "outputs": [],
   "source": [
    "################################\n",
    "# Final Modeli Oluşturmak\n",
    "################################\n",
    "\n",
    "from sklearn.cluster import AgglomerativeClustering\n",
    "\n",
    "cluster = AgglomerativeClustering(n_clusters=5, linkage=\"average\")\n",
    "\n",
    "clusters = cluster.fit_predict(df)"
   ]
  },
  {
   "cell_type": "code",
   "execution_count": 28,
   "id": "551c0338-39ce-4b6f-80f5-cc8bda27972e",
   "metadata": {},
   "outputs": [
    {
     "data": {
      "text/html": [
       "<div>\n",
       "<style scoped>\n",
       "    .dataframe tbody tr th:only-of-type {\n",
       "        vertical-align: middle;\n",
       "    }\n",
       "\n",
       "    .dataframe tbody tr th {\n",
       "        vertical-align: top;\n",
       "    }\n",
       "\n",
       "    .dataframe thead th {\n",
       "        text-align: right;\n",
       "    }\n",
       "</style>\n",
       "<table border=\"1\" class=\"dataframe\">\n",
       "  <thead>\n",
       "    <tr style=\"text-align: right;\">\n",
       "      <th></th>\n",
       "      <th>Murder</th>\n",
       "      <th>Assault</th>\n",
       "      <th>UrbanPop</th>\n",
       "      <th>Rape</th>\n",
       "      <th>hi_cluster_no</th>\n",
       "    </tr>\n",
       "  </thead>\n",
       "  <tbody>\n",
       "    <tr>\n",
       "      <th>Alabama</th>\n",
       "      <td>13.2</td>\n",
       "      <td>236</td>\n",
       "      <td>58</td>\n",
       "      <td>21.2</td>\n",
       "      <td>3</td>\n",
       "    </tr>\n",
       "    <tr>\n",
       "      <th>Alaska</th>\n",
       "      <td>10.0</td>\n",
       "      <td>263</td>\n",
       "      <td>48</td>\n",
       "      <td>44.5</td>\n",
       "      <td>2</td>\n",
       "    </tr>\n",
       "    <tr>\n",
       "      <th>Arizona</th>\n",
       "      <td>8.1</td>\n",
       "      <td>294</td>\n",
       "      <td>80</td>\n",
       "      <td>31.0</td>\n",
       "      <td>1</td>\n",
       "    </tr>\n",
       "    <tr>\n",
       "      <th>Arkansas</th>\n",
       "      <td>8.8</td>\n",
       "      <td>190</td>\n",
       "      <td>50</td>\n",
       "      <td>19.5</td>\n",
       "      <td>0</td>\n",
       "    </tr>\n",
       "    <tr>\n",
       "      <th>California</th>\n",
       "      <td>9.0</td>\n",
       "      <td>276</td>\n",
       "      <td>91</td>\n",
       "      <td>40.6</td>\n",
       "      <td>1</td>\n",
       "    </tr>\n",
       "  </tbody>\n",
       "</table>\n",
       "</div>"
      ],
      "text/plain": [
       "            Murder  Assault  UrbanPop  Rape  hi_cluster_no\n",
       "Alabama       13.2      236        58  21.2              3\n",
       "Alaska        10.0      263        48  44.5              2\n",
       "Arizona        8.1      294        80  31.0              1\n",
       "Arkansas       8.8      190        50  19.5              0\n",
       "California     9.0      276        91  40.6              1"
      ]
     },
     "execution_count": 28,
     "metadata": {},
     "output_type": "execute_result"
    }
   ],
   "source": [
    "df = pd.read_csv(\"datasets/USArrests.csv\", index_col=0)\n",
    "df[\"hi_cluster_no\"] = clusters\n",
    "df.head()"
   ]
  },
  {
   "cell_type": "code",
   "execution_count": 30,
   "id": "445c0c90-bad2-4ac7-8146-180edb89ef89",
   "metadata": {},
   "outputs": [],
   "source": [
    "df[\"hi_cluster_no\"] = df[\"hi_cluster_no\"] + 1\n",
    "\n",
    "df[\"kmeans_cluster_no\"] = clusters_kmeans\n",
    "\n",
    "df[\"kmeans_cluster_no\"] = df[\"kmeans_cluster_no\"]  + 1"
   ]
  },
  {
   "cell_type": "code",
   "execution_count": 31,
   "id": "fa483d5d-4bbc-49c2-92b3-8e96df3ae922",
   "metadata": {},
   "outputs": [
    {
     "data": {
      "text/html": [
       "<div>\n",
       "<style scoped>\n",
       "    .dataframe tbody tr th:only-of-type {\n",
       "        vertical-align: middle;\n",
       "    }\n",
       "\n",
       "    .dataframe tbody tr th {\n",
       "        vertical-align: top;\n",
       "    }\n",
       "\n",
       "    .dataframe thead th {\n",
       "        text-align: right;\n",
       "    }\n",
       "</style>\n",
       "<table border=\"1\" class=\"dataframe\">\n",
       "  <thead>\n",
       "    <tr style=\"text-align: right;\">\n",
       "      <th></th>\n",
       "      <th>Murder</th>\n",
       "      <th>Assault</th>\n",
       "      <th>UrbanPop</th>\n",
       "      <th>Rape</th>\n",
       "      <th>hi_cluster_no</th>\n",
       "      <th>kmeans_cluster_no</th>\n",
       "    </tr>\n",
       "  </thead>\n",
       "  <tbody>\n",
       "    <tr>\n",
       "      <th>Alabama</th>\n",
       "      <td>13.2</td>\n",
       "      <td>236</td>\n",
       "      <td>58</td>\n",
       "      <td>21.2</td>\n",
       "      <td>5</td>\n",
       "      <td>4</td>\n",
       "    </tr>\n",
       "    <tr>\n",
       "      <th>Alaska</th>\n",
       "      <td>10.0</td>\n",
       "      <td>263</td>\n",
       "      <td>48</td>\n",
       "      <td>44.5</td>\n",
       "      <td>4</td>\n",
       "      <td>1</td>\n",
       "    </tr>\n",
       "    <tr>\n",
       "      <th>Arizona</th>\n",
       "      <td>8.1</td>\n",
       "      <td>294</td>\n",
       "      <td>80</td>\n",
       "      <td>31.0</td>\n",
       "      <td>3</td>\n",
       "      <td>1</td>\n",
       "    </tr>\n",
       "    <tr>\n",
       "      <th>Arkansas</th>\n",
       "      <td>8.8</td>\n",
       "      <td>190</td>\n",
       "      <td>50</td>\n",
       "      <td>19.5</td>\n",
       "      <td>2</td>\n",
       "      <td>3</td>\n",
       "    </tr>\n",
       "    <tr>\n",
       "      <th>California</th>\n",
       "      <td>9.0</td>\n",
       "      <td>276</td>\n",
       "      <td>91</td>\n",
       "      <td>40.6</td>\n",
       "      <td>3</td>\n",
       "      <td>1</td>\n",
       "    </tr>\n",
       "  </tbody>\n",
       "</table>\n",
       "</div>"
      ],
      "text/plain": [
       "            Murder  Assault  UrbanPop  Rape  hi_cluster_no  kmeans_cluster_no\n",
       "Alabama       13.2      236        58  21.2              5                  4\n",
       "Alaska        10.0      263        48  44.5              4                  1\n",
       "Arizona        8.1      294        80  31.0              3                  1\n",
       "Arkansas       8.8      190        50  19.5              2                  3\n",
       "California     9.0      276        91  40.6              3                  1"
      ]
     },
     "execution_count": 31,
     "metadata": {},
     "output_type": "execute_result"
    }
   ],
   "source": [
    "df.head()"
   ]
  },
  {
   "cell_type": "code",
   "execution_count": 32,
   "id": "994cbe98-741b-4038-a363-f2616e2f18e6",
   "metadata": {},
   "outputs": [
    {
     "data": {
      "text/html": [
       "<div>\n",
       "<style scoped>\n",
       "    .dataframe tbody tr th:only-of-type {\n",
       "        vertical-align: middle;\n",
       "    }\n",
       "\n",
       "    .dataframe tbody tr th {\n",
       "        vertical-align: top;\n",
       "    }\n",
       "\n",
       "    .dataframe thead th {\n",
       "        text-align: right;\n",
       "    }\n",
       "</style>\n",
       "<table border=\"1\" class=\"dataframe\">\n",
       "  <thead>\n",
       "    <tr style=\"text-align: right;\">\n",
       "      <th></th>\n",
       "      <th>AtBat</th>\n",
       "      <th>Hits</th>\n",
       "      <th>HmRun</th>\n",
       "      <th>Runs</th>\n",
       "      <th>RBI</th>\n",
       "      <th>Walks</th>\n",
       "      <th>Years</th>\n",
       "      <th>CAtBat</th>\n",
       "      <th>CHits</th>\n",
       "      <th>CHmRun</th>\n",
       "      <th>CRuns</th>\n",
       "      <th>CRBI</th>\n",
       "      <th>CWalks</th>\n",
       "      <th>League</th>\n",
       "      <th>Division</th>\n",
       "      <th>PutOuts</th>\n",
       "      <th>Assists</th>\n",
       "      <th>Errors</th>\n",
       "      <th>Salary</th>\n",
       "      <th>NewLeague</th>\n",
       "    </tr>\n",
       "  </thead>\n",
       "  <tbody>\n",
       "    <tr>\n",
       "      <th>0</th>\n",
       "      <td>293</td>\n",
       "      <td>66</td>\n",
       "      <td>1</td>\n",
       "      <td>30</td>\n",
       "      <td>29</td>\n",
       "      <td>14</td>\n",
       "      <td>1</td>\n",
       "      <td>293</td>\n",
       "      <td>66</td>\n",
       "      <td>1</td>\n",
       "      <td>30</td>\n",
       "      <td>29</td>\n",
       "      <td>14</td>\n",
       "      <td>A</td>\n",
       "      <td>E</td>\n",
       "      <td>446</td>\n",
       "      <td>33</td>\n",
       "      <td>20</td>\n",
       "      <td>NaN</td>\n",
       "      <td>A</td>\n",
       "    </tr>\n",
       "    <tr>\n",
       "      <th>1</th>\n",
       "      <td>315</td>\n",
       "      <td>81</td>\n",
       "      <td>7</td>\n",
       "      <td>24</td>\n",
       "      <td>38</td>\n",
       "      <td>39</td>\n",
       "      <td>14</td>\n",
       "      <td>3449</td>\n",
       "      <td>835</td>\n",
       "      <td>69</td>\n",
       "      <td>321</td>\n",
       "      <td>414</td>\n",
       "      <td>375</td>\n",
       "      <td>N</td>\n",
       "      <td>W</td>\n",
       "      <td>632</td>\n",
       "      <td>43</td>\n",
       "      <td>10</td>\n",
       "      <td>475.0</td>\n",
       "      <td>N</td>\n",
       "    </tr>\n",
       "    <tr>\n",
       "      <th>2</th>\n",
       "      <td>479</td>\n",
       "      <td>130</td>\n",
       "      <td>18</td>\n",
       "      <td>66</td>\n",
       "      <td>72</td>\n",
       "      <td>76</td>\n",
       "      <td>3</td>\n",
       "      <td>1624</td>\n",
       "      <td>457</td>\n",
       "      <td>63</td>\n",
       "      <td>224</td>\n",
       "      <td>266</td>\n",
       "      <td>263</td>\n",
       "      <td>A</td>\n",
       "      <td>W</td>\n",
       "      <td>880</td>\n",
       "      <td>82</td>\n",
       "      <td>14</td>\n",
       "      <td>480.0</td>\n",
       "      <td>A</td>\n",
       "    </tr>\n",
       "    <tr>\n",
       "      <th>3</th>\n",
       "      <td>496</td>\n",
       "      <td>141</td>\n",
       "      <td>20</td>\n",
       "      <td>65</td>\n",
       "      <td>78</td>\n",
       "      <td>37</td>\n",
       "      <td>11</td>\n",
       "      <td>5628</td>\n",
       "      <td>1575</td>\n",
       "      <td>225</td>\n",
       "      <td>828</td>\n",
       "      <td>838</td>\n",
       "      <td>354</td>\n",
       "      <td>N</td>\n",
       "      <td>E</td>\n",
       "      <td>200</td>\n",
       "      <td>11</td>\n",
       "      <td>3</td>\n",
       "      <td>500.0</td>\n",
       "      <td>N</td>\n",
       "    </tr>\n",
       "    <tr>\n",
       "      <th>4</th>\n",
       "      <td>321</td>\n",
       "      <td>87</td>\n",
       "      <td>10</td>\n",
       "      <td>39</td>\n",
       "      <td>42</td>\n",
       "      <td>30</td>\n",
       "      <td>2</td>\n",
       "      <td>396</td>\n",
       "      <td>101</td>\n",
       "      <td>12</td>\n",
       "      <td>48</td>\n",
       "      <td>46</td>\n",
       "      <td>33</td>\n",
       "      <td>N</td>\n",
       "      <td>E</td>\n",
       "      <td>805</td>\n",
       "      <td>40</td>\n",
       "      <td>4</td>\n",
       "      <td>91.5</td>\n",
       "      <td>N</td>\n",
       "    </tr>\n",
       "  </tbody>\n",
       "</table>\n",
       "</div>"
      ],
      "text/plain": [
       "   AtBat  Hits  HmRun  Runs  RBI  Walks  Years  CAtBat  CHits  CHmRun  CRuns  \\\n",
       "0    293    66      1    30   29     14      1     293     66       1     30   \n",
       "1    315    81      7    24   38     39     14    3449    835      69    321   \n",
       "2    479   130     18    66   72     76      3    1624    457      63    224   \n",
       "3    496   141     20    65   78     37     11    5628   1575     225    828   \n",
       "4    321    87     10    39   42     30      2     396    101      12     48   \n",
       "\n",
       "   CRBI  CWalks League Division  PutOuts  Assists  Errors  Salary NewLeague  \n",
       "0    29      14      A        E      446       33      20     NaN         A  \n",
       "1   414     375      N        W      632       43      10   475.0         N  \n",
       "2   266     263      A        W      880       82      14   480.0         A  \n",
       "3   838     354      N        E      200       11       3   500.0         N  \n",
       "4    46      33      N        E      805       40       4    91.5         N  "
      ]
     },
     "execution_count": 32,
     "metadata": {},
     "output_type": "execute_result"
    }
   ],
   "source": [
    "################################\n",
    "# Principal Component Analysis\n",
    "################################\n",
    "\n",
    "df = pd.read_csv(\"datasets/Hitters.csv\")\n",
    "df.head()"
   ]
  },
  {
   "cell_type": "code",
   "execution_count": 33,
   "id": "c04f37f3-5e0d-4d28-99ef-bc802328c5ff",
   "metadata": {},
   "outputs": [
    {
     "data": {
      "text/html": [
       "<div>\n",
       "<style scoped>\n",
       "    .dataframe tbody tr th:only-of-type {\n",
       "        vertical-align: middle;\n",
       "    }\n",
       "\n",
       "    .dataframe tbody tr th {\n",
       "        vertical-align: top;\n",
       "    }\n",
       "\n",
       "    .dataframe thead th {\n",
       "        text-align: right;\n",
       "    }\n",
       "</style>\n",
       "<table border=\"1\" class=\"dataframe\">\n",
       "  <thead>\n",
       "    <tr style=\"text-align: right;\">\n",
       "      <th></th>\n",
       "      <th>AtBat</th>\n",
       "      <th>Hits</th>\n",
       "      <th>HmRun</th>\n",
       "      <th>Runs</th>\n",
       "      <th>RBI</th>\n",
       "      <th>Walks</th>\n",
       "      <th>Years</th>\n",
       "      <th>CAtBat</th>\n",
       "      <th>CHits</th>\n",
       "      <th>CHmRun</th>\n",
       "      <th>CRuns</th>\n",
       "      <th>CRBI</th>\n",
       "      <th>CWalks</th>\n",
       "      <th>PutOuts</th>\n",
       "      <th>Assists</th>\n",
       "      <th>Errors</th>\n",
       "    </tr>\n",
       "  </thead>\n",
       "  <tbody>\n",
       "    <tr>\n",
       "      <th>0</th>\n",
       "      <td>293</td>\n",
       "      <td>66</td>\n",
       "      <td>1</td>\n",
       "      <td>30</td>\n",
       "      <td>29</td>\n",
       "      <td>14</td>\n",
       "      <td>1</td>\n",
       "      <td>293</td>\n",
       "      <td>66</td>\n",
       "      <td>1</td>\n",
       "      <td>30</td>\n",
       "      <td>29</td>\n",
       "      <td>14</td>\n",
       "      <td>446</td>\n",
       "      <td>33</td>\n",
       "      <td>20</td>\n",
       "    </tr>\n",
       "    <tr>\n",
       "      <th>1</th>\n",
       "      <td>315</td>\n",
       "      <td>81</td>\n",
       "      <td>7</td>\n",
       "      <td>24</td>\n",
       "      <td>38</td>\n",
       "      <td>39</td>\n",
       "      <td>14</td>\n",
       "      <td>3449</td>\n",
       "      <td>835</td>\n",
       "      <td>69</td>\n",
       "      <td>321</td>\n",
       "      <td>414</td>\n",
       "      <td>375</td>\n",
       "      <td>632</td>\n",
       "      <td>43</td>\n",
       "      <td>10</td>\n",
       "    </tr>\n",
       "    <tr>\n",
       "      <th>2</th>\n",
       "      <td>479</td>\n",
       "      <td>130</td>\n",
       "      <td>18</td>\n",
       "      <td>66</td>\n",
       "      <td>72</td>\n",
       "      <td>76</td>\n",
       "      <td>3</td>\n",
       "      <td>1624</td>\n",
       "      <td>457</td>\n",
       "      <td>63</td>\n",
       "      <td>224</td>\n",
       "      <td>266</td>\n",
       "      <td>263</td>\n",
       "      <td>880</td>\n",
       "      <td>82</td>\n",
       "      <td>14</td>\n",
       "    </tr>\n",
       "    <tr>\n",
       "      <th>3</th>\n",
       "      <td>496</td>\n",
       "      <td>141</td>\n",
       "      <td>20</td>\n",
       "      <td>65</td>\n",
       "      <td>78</td>\n",
       "      <td>37</td>\n",
       "      <td>11</td>\n",
       "      <td>5628</td>\n",
       "      <td>1575</td>\n",
       "      <td>225</td>\n",
       "      <td>828</td>\n",
       "      <td>838</td>\n",
       "      <td>354</td>\n",
       "      <td>200</td>\n",
       "      <td>11</td>\n",
       "      <td>3</td>\n",
       "    </tr>\n",
       "    <tr>\n",
       "      <th>4</th>\n",
       "      <td>321</td>\n",
       "      <td>87</td>\n",
       "      <td>10</td>\n",
       "      <td>39</td>\n",
       "      <td>42</td>\n",
       "      <td>30</td>\n",
       "      <td>2</td>\n",
       "      <td>396</td>\n",
       "      <td>101</td>\n",
       "      <td>12</td>\n",
       "      <td>48</td>\n",
       "      <td>46</td>\n",
       "      <td>33</td>\n",
       "      <td>805</td>\n",
       "      <td>40</td>\n",
       "      <td>4</td>\n",
       "    </tr>\n",
       "  </tbody>\n",
       "</table>\n",
       "</div>"
      ],
      "text/plain": [
       "   AtBat  Hits  HmRun  Runs  RBI  Walks  Years  CAtBat  CHits  CHmRun  CRuns  \\\n",
       "0    293    66      1    30   29     14      1     293     66       1     30   \n",
       "1    315    81      7    24   38     39     14    3449    835      69    321   \n",
       "2    479   130     18    66   72     76      3    1624    457      63    224   \n",
       "3    496   141     20    65   78     37     11    5628   1575     225    828   \n",
       "4    321    87     10    39   42     30      2     396    101      12     48   \n",
       "\n",
       "   CRBI  CWalks  PutOuts  Assists  Errors  \n",
       "0    29      14      446       33      20  \n",
       "1   414     375      632       43      10  \n",
       "2   266     263      880       82      14  \n",
       "3   838     354      200       11       3  \n",
       "4    46      33      805       40       4  "
      ]
     },
     "execution_count": 33,
     "metadata": {},
     "output_type": "execute_result"
    }
   ],
   "source": [
    "num_cols = [col for col in df.columns if df[col].dtypes != \"O\" and \"Salary\" not in col]\n",
    "\n",
    "df[num_cols].head()"
   ]
  },
  {
   "cell_type": "code",
   "execution_count": 34,
   "id": "4dad9c8d-5a58-43cd-9ca7-473a34c55360",
   "metadata": {},
   "outputs": [
    {
     "data": {
      "text/plain": [
       "(322, 16)"
      ]
     },
     "execution_count": 34,
     "metadata": {},
     "output_type": "execute_result"
    }
   ],
   "source": [
    "df = df[num_cols]\n",
    "df.dropna(inplace=True)\n",
    "df.shape"
   ]
  },
  {
   "cell_type": "code",
   "execution_count": 35,
   "id": "1a19da60-0636-4935-a2be-d25ac351d91c",
   "metadata": {},
   "outputs": [
    {
     "data": {
      "text/plain": [
       "array([4.60378552e-01, 2.60398491e-01, 1.03388605e-01, 5.36902121e-02,\n",
       "       4.20784091e-02, 2.96359092e-02, 1.57079101e-02, 1.13928108e-02,\n",
       "       7.83230398e-03, 5.87669497e-03, 3.74765194e-03, 3.09384056e-03,\n",
       "       1.55679403e-03, 8.59034766e-04, 2.86873704e-04, 7.59064046e-05])"
      ]
     },
     "execution_count": 35,
     "metadata": {},
     "output_type": "execute_result"
    }
   ],
   "source": [
    "df = StandardScaler().fit_transform(df)\n",
    "\n",
    "pca = PCA()\n",
    "pca_fit = pca.fit_transform(df)\n",
    "\n",
    "pca.explained_variance_ratio_"
   ]
  },
  {
   "cell_type": "code",
   "execution_count": 36,
   "id": "514cbae6-8a0d-4b0d-bb68-4727dc163d1b",
   "metadata": {},
   "outputs": [
    {
     "data": {
      "text/plain": [
       "array([0.46037855, 0.72077704, 0.82416565, 0.87785586, 0.91993427,\n",
       "       0.94957018, 0.96527809, 0.9766709 , 0.9845032 , 0.9903799 ,\n",
       "       0.99412755, 0.99722139, 0.99877819, 0.99963722, 0.99992409,\n",
       "       1.        ])"
      ]
     },
     "execution_count": 36,
     "metadata": {},
     "output_type": "execute_result"
    }
   ],
   "source": [
    "np.cumsum(pca.explained_variance_ratio_)"
   ]
  },
  {
   "cell_type": "code",
   "execution_count": 37,
   "id": "bd075e55-ed24-4edc-997b-adacc9691b49",
   "metadata": {},
   "outputs": [
    {
     "data": {
      "image/png": "[encoded data removed]",
      "text/plain": [
       "<Figure size 800x550 with 1 Axes>"
      ]
     },
     "metadata": {},
     "output_type": "display_data"
    }
   ],
   "source": [
    "################################\n",
    "# Optimum Bileşen Sayısı\n",
    "################################\n",
    "\n",
    "pca = PCA().fit(df)\n",
    "plt.plot(np.cumsum(pca.explained_variance_ratio_))\n",
    "plt.xlabel(\"Bileşen Sayısını\")\n",
    "plt.ylabel(\"Kümülatif Varyans Oranı\")\n",
    "plt.show()"
   ]
  },
  {
   "cell_type": "code",
   "execution_count": 38,
   "id": "33a0b2b7-f637-4a06-a1fb-f742f04f3f3c",
   "metadata": {},
   "outputs": [
    {
     "data": {
      "text/plain": [
       "array([0.46037855, 0.72077704, 0.82416565])"
      ]
     },
     "execution_count": 38,
     "metadata": {},
     "output_type": "execute_result"
    }
   ],
   "source": [
    "################################\n",
    "# Final PCA'in Oluşturulması\n",
    "################################\n",
    "\n",
    "pca = PCA(n_components=3)\n",
    "pca_fit = pca.fit_transform(df)\n",
    "\n",
    "pca.explained_variance_ratio_\n",
    "np.cumsum(pca.explained_variance_ratio_)"
   ]
  },
  {
   "cell_type": "code",
   "execution_count": 39,
   "id": "a7619289-b186-4096-8dec-280c3af07653",
   "metadata": {},
   "outputs": [
    {
     "data": {
      "text/plain": [
       "(322, 20)"
      ]
     },
     "execution_count": 39,
     "metadata": {},
     "output_type": "execute_result"
    }
   ],
   "source": [
    "################################\n",
    "# BONUS: Principal Component Regression\n",
    "################################\n",
    "\n",
    "df = pd.read_csv(\"datasets/Hitters.csv\")\n",
    "df.shape"
   ]
  },
  {
   "cell_type": "code",
   "execution_count": 40,
   "id": "70f7b3a4-a45e-4a8f-b4bb-8cd221ad68ae",
   "metadata": {},
   "outputs": [
    {
     "data": {
      "text/plain": [
       "322"
      ]
     },
     "execution_count": 40,
     "metadata": {},
     "output_type": "execute_result"
    }
   ],
   "source": [
    "len(pca_fit)"
   ]
  },
  {
   "cell_type": "code",
   "execution_count": 41,
   "id": "70422a76-4908-4988-8066-04055365d9cd",
   "metadata": {},
   "outputs": [
    {
     "data": {
      "text/plain": [
       "16"
      ]
     },
     "execution_count": 41,
     "metadata": {},
     "output_type": "execute_result"
    }
   ],
   "source": [
    "num_cols = [col for col in df.columns if df[col].dtypes != \"O\" and \"Salary\" not in col]\n",
    "len(num_cols)"
   ]
  },
  {
   "cell_type": "code",
   "execution_count": 42,
   "id": "306f5f6e-1e40-4b17-a246-9aeda1ada2b1",
   "metadata": {},
   "outputs": [],
   "source": [
    "others = [col for col in df.columns if col not in num_cols]"
   ]
  },
  {
   "cell_type": "code",
   "execution_count": 43,
   "id": "da7974a2-529b-46cb-b67e-eed10f42176f",
   "metadata": {},
   "outputs": [
    {
     "data": {
      "text/html": [
       "<div>\n",
       "<style scoped>\n",
       "    .dataframe tbody tr th:only-of-type {\n",
       "        vertical-align: middle;\n",
       "    }\n",
       "\n",
       "    .dataframe tbody tr th {\n",
       "        vertical-align: top;\n",
       "    }\n",
       "\n",
       "    .dataframe thead th {\n",
       "        text-align: right;\n",
       "    }\n",
       "</style>\n",
       "<table border=\"1\" class=\"dataframe\">\n",
       "  <thead>\n",
       "    <tr style=\"text-align: right;\">\n",
       "      <th></th>\n",
       "      <th>PC1</th>\n",
       "      <th>PC2</th>\n",
       "      <th>PC3</th>\n",
       "    </tr>\n",
       "  </thead>\n",
       "  <tbody>\n",
       "    <tr>\n",
       "      <th>0</th>\n",
       "      <td>-3.240106</td>\n",
       "      <td>0.253173</td>\n",
       "      <td>0.776066</td>\n",
       "    </tr>\n",
       "    <tr>\n",
       "      <th>1</th>\n",
       "      <td>0.245488</td>\n",
       "      <td>-1.302951</td>\n",
       "      <td>0.118040</td>\n",
       "    </tr>\n",
       "    <tr>\n",
       "      <th>2</th>\n",
       "      <td>0.603883</td>\n",
       "      <td>2.617002</td>\n",
       "      <td>-0.698183</td>\n",
       "    </tr>\n",
       "    <tr>\n",
       "      <th>3</th>\n",
       "      <td>3.591276</td>\n",
       "      <td>-0.547821</td>\n",
       "      <td>-1.049022</td>\n",
       "    </tr>\n",
       "    <tr>\n",
       "      <th>4</th>\n",
       "      <td>-2.264528</td>\n",
       "      <td>0.698898</td>\n",
       "      <td>-1.290536</td>\n",
       "    </tr>\n",
       "  </tbody>\n",
       "</table>\n",
       "</div>"
      ],
      "text/plain": [
       "        PC1       PC2       PC3\n",
       "0 -3.240106  0.253173  0.776066\n",
       "1  0.245488 -1.302951  0.118040\n",
       "2  0.603883  2.617002 -0.698183\n",
       "3  3.591276 -0.547821 -1.049022\n",
       "4 -2.264528  0.698898 -1.290536"
      ]
     },
     "execution_count": 43,
     "metadata": {},
     "output_type": "execute_result"
    }
   ],
   "source": [
    "pd.DataFrame(pca_fit, columns=[\"PC1\",\"PC2\",\"PC3\"]).head()"
   ]
  },
  {
   "cell_type": "code",
   "execution_count": 44,
   "id": "6e65fb29-5d2c-431d-80f8-e0cc663a68ae",
   "metadata": {},
   "outputs": [
    {
     "data": {
      "text/html": [
       "<div>\n",
       "<style scoped>\n",
       "    .dataframe tbody tr th:only-of-type {\n",
       "        vertical-align: middle;\n",
       "    }\n",
       "\n",
       "    .dataframe tbody tr th {\n",
       "        vertical-align: top;\n",
       "    }\n",
       "\n",
       "    .dataframe thead th {\n",
       "        text-align: right;\n",
       "    }\n",
       "</style>\n",
       "<table border=\"1\" class=\"dataframe\">\n",
       "  <thead>\n",
       "    <tr style=\"text-align: right;\">\n",
       "      <th></th>\n",
       "      <th>League</th>\n",
       "      <th>Division</th>\n",
       "      <th>Salary</th>\n",
       "      <th>NewLeague</th>\n",
       "    </tr>\n",
       "  </thead>\n",
       "  <tbody>\n",
       "    <tr>\n",
       "      <th>0</th>\n",
       "      <td>A</td>\n",
       "      <td>E</td>\n",
       "      <td>NaN</td>\n",
       "      <td>A</td>\n",
       "    </tr>\n",
       "    <tr>\n",
       "      <th>1</th>\n",
       "      <td>N</td>\n",
       "      <td>W</td>\n",
       "      <td>475.0</td>\n",
       "      <td>N</td>\n",
       "    </tr>\n",
       "    <tr>\n",
       "      <th>2</th>\n",
       "      <td>A</td>\n",
       "      <td>W</td>\n",
       "      <td>480.0</td>\n",
       "      <td>A</td>\n",
       "    </tr>\n",
       "    <tr>\n",
       "      <th>3</th>\n",
       "      <td>N</td>\n",
       "      <td>E</td>\n",
       "      <td>500.0</td>\n",
       "      <td>N</td>\n",
       "    </tr>\n",
       "    <tr>\n",
       "      <th>4</th>\n",
       "      <td>N</td>\n",
       "      <td>E</td>\n",
       "      <td>91.5</td>\n",
       "      <td>N</td>\n",
       "    </tr>\n",
       "  </tbody>\n",
       "</table>\n",
       "</div>"
      ],
      "text/plain": [
       "  League Division  Salary NewLeague\n",
       "0      A        E     NaN         A\n",
       "1      N        W   475.0         N\n",
       "2      A        W   480.0         A\n",
       "3      N        E   500.0         N\n",
       "4      N        E    91.5         N"
      ]
     },
     "execution_count": 44,
     "metadata": {},
     "output_type": "execute_result"
    }
   ],
   "source": [
    "df[others].head()"
   ]
  },
  {
   "cell_type": "code",
   "execution_count": 45,
   "id": "358a83fb-243f-44fa-961a-515ec8df4008",
   "metadata": {},
   "outputs": [
    {
     "data": {
      "text/html": [
       "<div>\n",
       "<style scoped>\n",
       "    .dataframe tbody tr th:only-of-type {\n",
       "        vertical-align: middle;\n",
       "    }\n",
       "\n",
       "    .dataframe tbody tr th {\n",
       "        vertical-align: top;\n",
       "    }\n",
       "\n",
       "    .dataframe thead th {\n",
       "        text-align: right;\n",
       "    }\n",
       "</style>\n",
       "<table border=\"1\" class=\"dataframe\">\n",
       "  <thead>\n",
       "    <tr style=\"text-align: right;\">\n",
       "      <th></th>\n",
       "      <th>PC1</th>\n",
       "      <th>PC2</th>\n",
       "      <th>PC3</th>\n",
       "      <th>League</th>\n",
       "      <th>Division</th>\n",
       "      <th>Salary</th>\n",
       "      <th>NewLeague</th>\n",
       "    </tr>\n",
       "  </thead>\n",
       "  <tbody>\n",
       "    <tr>\n",
       "      <th>0</th>\n",
       "      <td>-3.240106</td>\n",
       "      <td>0.253173</td>\n",
       "      <td>0.776066</td>\n",
       "      <td>A</td>\n",
       "      <td>E</td>\n",
       "      <td>NaN</td>\n",
       "      <td>A</td>\n",
       "    </tr>\n",
       "    <tr>\n",
       "      <th>1</th>\n",
       "      <td>0.245488</td>\n",
       "      <td>-1.302951</td>\n",
       "      <td>0.118040</td>\n",
       "      <td>N</td>\n",
       "      <td>W</td>\n",
       "      <td>475.0</td>\n",
       "      <td>N</td>\n",
       "    </tr>\n",
       "    <tr>\n",
       "      <th>2</th>\n",
       "      <td>0.603883</td>\n",
       "      <td>2.617002</td>\n",
       "      <td>-0.698183</td>\n",
       "      <td>A</td>\n",
       "      <td>W</td>\n",
       "      <td>480.0</td>\n",
       "      <td>A</td>\n",
       "    </tr>\n",
       "    <tr>\n",
       "      <th>3</th>\n",
       "      <td>3.591276</td>\n",
       "      <td>-0.547821</td>\n",
       "      <td>-1.049022</td>\n",
       "      <td>N</td>\n",
       "      <td>E</td>\n",
       "      <td>500.0</td>\n",
       "      <td>N</td>\n",
       "    </tr>\n",
       "    <tr>\n",
       "      <th>4</th>\n",
       "      <td>-2.264528</td>\n",
       "      <td>0.698898</td>\n",
       "      <td>-1.290536</td>\n",
       "      <td>N</td>\n",
       "      <td>E</td>\n",
       "      <td>91.5</td>\n",
       "      <td>N</td>\n",
       "    </tr>\n",
       "  </tbody>\n",
       "</table>\n",
       "</div>"
      ],
      "text/plain": [
       "        PC1       PC2       PC3 League Division  Salary NewLeague\n",
       "0 -3.240106  0.253173  0.776066      A        E     NaN         A\n",
       "1  0.245488 -1.302951  0.118040      N        W   475.0         N\n",
       "2  0.603883  2.617002 -0.698183      A        W   480.0         A\n",
       "3  3.591276 -0.547821 -1.049022      N        E   500.0         N\n",
       "4 -2.264528  0.698898 -1.290536      N        E    91.5         N"
      ]
     },
     "execution_count": 45,
     "metadata": {},
     "output_type": "execute_result"
    }
   ],
   "source": [
    "final_df = pd.concat([pd.DataFrame(pca_fit, columns=[\"PC1\",\"PC2\",\"PC3\"]),\n",
    "                      df[others]], axis=1)\n",
    "final_df.head()"
   ]
  },
  {
   "cell_type": "code",
   "execution_count": 47,
   "id": "6ce53e45-23b4-4374-8b5e-7556dbde6899",
   "metadata": {},
   "outputs": [],
   "source": [
    "from sklearn.linear_model import LinearRegression\n",
    "from sklearn.tree import DecisionTreeRegressor"
   ]
  },
  {
   "cell_type": "code",
   "execution_count": 46,
   "id": "d28cf128-d99e-45a1-af00-54bf79c0ba73",
   "metadata": {},
   "outputs": [],
   "source": [
    "def label_encoder(dataframe, binary_col):\n",
    "    labelencoder = LabelEncoder()\n",
    "    dataframe[binary_col] = labelencoder.fit_transform(dataframe[binary_col])\n",
    "    return dataframe\n",
    "\n",
    "for col in [\"NewLeague\", \"Division\", \"League\"]:\n",
    "    label_encoder(final_df, col)\n",
    "\n",
    "final_df.dropna(inplace=True)"
   ]
  },
  {
   "cell_type": "code",
   "execution_count": 49,
   "id": "c79d5fa4-b7ca-48dc-bde5-7b9f6f97f296",
   "metadata": {},
   "outputs": [
    {
     "name": "stdout",
     "output_type": "stream",
     "text": [
      "345.6021106351967\n"
     ]
    }
   ],
   "source": [
    "y = final_df[\"Salary\"]\n",
    "X = final_df.drop([\"Salary\"], axis=1)\n",
    "\n",
    "lm = LinearRegression()\n",
    "rmse = np.mean(np.sqrt(-cross_val_score(lm, X, y, cv=5, scoring=\"neg_mean_squared_error\")))\n",
    "print(rmse)"
   ]
  },
  {
   "cell_type": "code",
   "execution_count": 50,
   "id": "31a0a0a4-c2c9-404e-85a1-ece040cad438",
   "metadata": {},
   "outputs": [
    {
     "data": {
      "text/plain": [
       "535.9258821292775"
      ]
     },
     "execution_count": 50,
     "metadata": {},
     "output_type": "execute_result"
    }
   ],
   "source": [
    "y.mean()"
   ]
  },
  {
   "cell_type": "code",
   "execution_count": 51,
   "id": "8036162d-9b21-4f39-8de8-43e234217f06",
   "metadata": {},
   "outputs": [
    {
     "data": {
      "text/plain": [
       "394.6430945766691"
      ]
     },
     "execution_count": 51,
     "metadata": {},
     "output_type": "execute_result"
    }
   ],
   "source": [
    "cart = DecisionTreeRegressor()\n",
    "rmse = np.mean(np.sqrt(-cross_val_score(cart, X, y, cv=5, scoring=\"neg_mean_squared_error\")))\n",
    "rmse"
   ]
  },
  {
   "cell_type": "code",
   "execution_count": 52,
   "id": "cf23f795-0d98-4ca4-9a44-d9d3fdef8ecb",
   "metadata": {},
   "outputs": [
    {
     "name": "stdout",
     "output_type": "stream",
     "text": [
      "Fitting 5 folds for each of 180 candidates, totalling 900 fits\n"
     ]
    },
    {
     "data": {
      "text/plain": [
       "330.1964109339104"
      ]
     },
     "execution_count": 52,
     "metadata": {},
     "output_type": "execute_result"
    }
   ],
   "source": [
    "cart_params = {'max_depth': range(1, 11),\n",
    "               \"min_samples_split\": range(2, 20)}\n",
    "\n",
    "# GridSearchCV\n",
    "cart_best_grid = GridSearchCV(cart,\n",
    "                              cart_params,\n",
    "                              cv=5,\n",
    "                              n_jobs=-1,\n",
    "                              verbose=True).fit(X, y)\n",
    "\n",
    "cart_final = DecisionTreeRegressor(**cart_best_grid.best_params_, random_state=17).fit(X, y)\n",
    "\n",
    "rmse = np.mean(np.sqrt(-cross_val_score(cart_final, X, y, cv=5, scoring=\"neg_mean_squared_error\")))\n",
    "rmse"
   ]
  },
  {
   "cell_type": "code",
   "execution_count": 53,
   "id": "c7f7809e-5fff-4606-84f1-e10896f9be82",
   "metadata": {},
   "outputs": [],
   "source": [
    "################################\n",
    "# BONUS: PCA ile Çok Boyutlu Veriyi 2 Boyutta Görselleştirme\n",
    "################################\n",
    "\n",
    "################################\n",
    "# Breast Cancer\n",
    "################################\n",
    "\n",
    "pd.set_option('display.max_columns', None)\n",
    "pd.set_option('display.width', 500)\n",
    "\n",
    "df = pd.read_csv(\"datasets/breast_cancer.csv\")\n",
    "\n",
    "y = df[\"diagnosis\"]\n",
    "X = df.drop([\"diagnosis\", \"id\"], axis=1)"
   ]
  },
  {
   "cell_type": "code",
   "execution_count": 55,
   "id": "95d5a92a-5b49-4b26-a597-bf4c52f3f645",
   "metadata": {},
   "outputs": [
    {
     "data": {
      "text/html": [
       "<div>\n",
       "<style scoped>\n",
       "    .dataframe tbody tr th:only-of-type {\n",
       "        vertical-align: middle;\n",
       "    }\n",
       "\n",
       "    .dataframe tbody tr th {\n",
       "        vertical-align: top;\n",
       "    }\n",
       "\n",
       "    .dataframe thead th {\n",
       "        text-align: right;\n",
       "    }\n",
       "</style>\n",
       "<table border=\"1\" class=\"dataframe\">\n",
       "  <thead>\n",
       "    <tr style=\"text-align: right;\">\n",
       "      <th></th>\n",
       "      <th>PC1</th>\n",
       "      <th>PC2</th>\n",
       "      <th>diagnosis</th>\n",
       "    </tr>\n",
       "  </thead>\n",
       "  <tbody>\n",
       "    <tr>\n",
       "      <th>0</th>\n",
       "      <td>9.192837</td>\n",
       "      <td>1.948583</td>\n",
       "      <td>M</td>\n",
       "    </tr>\n",
       "    <tr>\n",
       "      <th>1</th>\n",
       "      <td>2.387802</td>\n",
       "      <td>-3.768172</td>\n",
       "      <td>M</td>\n",
       "    </tr>\n",
       "    <tr>\n",
       "      <th>2</th>\n",
       "      <td>5.733896</td>\n",
       "      <td>-1.075174</td>\n",
       "      <td>M</td>\n",
       "    </tr>\n",
       "    <tr>\n",
       "      <th>3</th>\n",
       "      <td>7.122953</td>\n",
       "      <td>10.275589</td>\n",
       "      <td>M</td>\n",
       "    </tr>\n",
       "    <tr>\n",
       "      <th>4</th>\n",
       "      <td>3.935302</td>\n",
       "      <td>-1.948072</td>\n",
       "      <td>M</td>\n",
       "    </tr>\n",
       "    <tr>\n",
       "      <th>...</th>\n",
       "      <td>...</td>\n",
       "      <td>...</td>\n",
       "      <td>...</td>\n",
       "    </tr>\n",
       "    <tr>\n",
       "      <th>564</th>\n",
       "      <td>6.439315</td>\n",
       "      <td>-3.576817</td>\n",
       "      <td>M</td>\n",
       "    </tr>\n",
       "    <tr>\n",
       "      <th>565</th>\n",
       "      <td>3.793382</td>\n",
       "      <td>-3.584048</td>\n",
       "      <td>M</td>\n",
       "    </tr>\n",
       "    <tr>\n",
       "      <th>566</th>\n",
       "      <td>1.256179</td>\n",
       "      <td>-1.902297</td>\n",
       "      <td>M</td>\n",
       "    </tr>\n",
       "    <tr>\n",
       "      <th>567</th>\n",
       "      <td>10.374794</td>\n",
       "      <td>1.672010</td>\n",
       "      <td>M</td>\n",
       "    </tr>\n",
       "    <tr>\n",
       "      <th>568</th>\n",
       "      <td>-5.475243</td>\n",
       "      <td>-0.670637</td>\n",
       "      <td>B</td>\n",
       "    </tr>\n",
       "  </tbody>\n",
       "</table>\n",
       "<p>569 rows × 3 columns</p>\n",
       "</div>"
      ],
      "text/plain": [
       "           PC1        PC2 diagnosis\n",
       "0     9.192837   1.948583         M\n",
       "1     2.387802  -3.768172         M\n",
       "2     5.733896  -1.075174         M\n",
       "3     7.122953  10.275589         M\n",
       "4     3.935302  -1.948072         M\n",
       "..         ...        ...       ...\n",
       "564   6.439315  -3.576817         M\n",
       "565   3.793382  -3.584048         M\n",
       "566   1.256179  -1.902297         M\n",
       "567  10.374794   1.672010         M\n",
       "568  -5.475243  -0.670637         B\n",
       "\n",
       "[569 rows x 3 columns]"
      ]
     },
     "execution_count": 55,
     "metadata": {},
     "output_type": "execute_result"
    }
   ],
   "source": [
    "def create_pca_df(X, y):\n",
    "    X = StandardScaler().fit_transform(X)\n",
    "    pca = PCA(n_components=2)\n",
    "    pca_fit = pca.fit_transform(X)\n",
    "    pca_df = pd.DataFrame(data=pca_fit, columns=['PC1', 'PC2'])\n",
    "    final_df = pd.concat([pca_df, pd.DataFrame(y)], axis=1)\n",
    "    return final_df\n",
    "\n",
    "pca_df = create_pca_df(X, y)\n",
    "\n",
    "pca_df"
   ]
  },
  {
   "cell_type": "code",
   "execution_count": 56,
   "id": "ac03853b-17d5-409f-bb5d-0b5c21722dab",
   "metadata": {},
   "outputs": [
    {
     "data": {
      "image/png": "[encoded data removed]",
      "text/plain": [
       "<Figure size 700x500 with 1 Axes>"
      ]
     },
     "metadata": {},
     "output_type": "display_data"
    }
   ],
   "source": [
    "def plot_pca(dataframe, target):\n",
    "    fig = plt.figure(figsize=(7, 5))\n",
    "    ax = fig.add_subplot(1, 1, 1)\n",
    "    ax.set_xlabel('PC1', fontsize=15)\n",
    "    ax.set_ylabel('PC2', fontsize=15)\n",
    "    ax.set_title(f'{target.capitalize()} ', fontsize=20)\n",
    "\n",
    "    targets = list(dataframe[target].unique())\n",
    "    colors = random.sample(['r', 'b', \"g\", \"y\"], len(targets))\n",
    "\n",
    "    for t, color in zip(targets, colors):\n",
    "        indices = dataframe[target] == t\n",
    "        ax.scatter(dataframe.loc[indices, 'PC1'], dataframe.loc[indices, 'PC2'], c=color, s=50)\n",
    "    ax.legend(targets)\n",
    "    ax.grid()\n",
    "    plt.show()\n",
    "\n",
    "plot_pca(pca_df, \"diagnosis\")"
   ]
  },
  {
   "cell_type": "code",
   "execution_count": 57,
   "id": "5b1718a3-b17b-45c5-820c-0527e1a77934",
   "metadata": {},
   "outputs": [
    {
     "data": {
      "text/html": [
       "<div>\n",
       "<style scoped>\n",
       "    .dataframe tbody tr th:only-of-type {\n",
       "        vertical-align: middle;\n",
       "    }\n",
       "\n",
       "    .dataframe tbody tr th {\n",
       "        vertical-align: top;\n",
       "    }\n",
       "\n",
       "    .dataframe thead th {\n",
       "        text-align: right;\n",
       "    }\n",
       "</style>\n",
       "<table border=\"1\" class=\"dataframe\">\n",
       "  <thead>\n",
       "    <tr style=\"text-align: right;\">\n",
       "      <th></th>\n",
       "      <th>PC1</th>\n",
       "      <th>PC2</th>\n",
       "      <th>species</th>\n",
       "    </tr>\n",
       "  </thead>\n",
       "  <tbody>\n",
       "    <tr>\n",
       "      <th>0</th>\n",
       "      <td>-2.264703</td>\n",
       "      <td>0.480027</td>\n",
       "      <td>setosa</td>\n",
       "    </tr>\n",
       "    <tr>\n",
       "      <th>1</th>\n",
       "      <td>-2.080961</td>\n",
       "      <td>-0.674134</td>\n",
       "      <td>setosa</td>\n",
       "    </tr>\n",
       "    <tr>\n",
       "      <th>2</th>\n",
       "      <td>-2.364229</td>\n",
       "      <td>-0.341908</td>\n",
       "      <td>setosa</td>\n",
       "    </tr>\n",
       "    <tr>\n",
       "      <th>3</th>\n",
       "      <td>-2.299384</td>\n",
       "      <td>-0.597395</td>\n",
       "      <td>setosa</td>\n",
       "    </tr>\n",
       "    <tr>\n",
       "      <th>4</th>\n",
       "      <td>-2.389842</td>\n",
       "      <td>0.646835</td>\n",
       "      <td>setosa</td>\n",
       "    </tr>\n",
       "    <tr>\n",
       "      <th>...</th>\n",
       "      <td>...</td>\n",
       "      <td>...</td>\n",
       "      <td>...</td>\n",
       "    </tr>\n",
       "    <tr>\n",
       "      <th>145</th>\n",
       "      <td>1.870503</td>\n",
       "      <td>0.386966</td>\n",
       "      <td>virginica</td>\n",
       "    </tr>\n",
       "    <tr>\n",
       "      <th>146</th>\n",
       "      <td>1.564580</td>\n",
       "      <td>-0.896687</td>\n",
       "      <td>virginica</td>\n",
       "    </tr>\n",
       "    <tr>\n",
       "      <th>147</th>\n",
       "      <td>1.521170</td>\n",
       "      <td>0.269069</td>\n",
       "      <td>virginica</td>\n",
       "    </tr>\n",
       "    <tr>\n",
       "      <th>148</th>\n",
       "      <td>1.372788</td>\n",
       "      <td>1.011254</td>\n",
       "      <td>virginica</td>\n",
       "    </tr>\n",
       "    <tr>\n",
       "      <th>149</th>\n",
       "      <td>0.960656</td>\n",
       "      <td>-0.024332</td>\n",
       "      <td>virginica</td>\n",
       "    </tr>\n",
       "  </tbody>\n",
       "</table>\n",
       "<p>150 rows × 3 columns</p>\n",
       "</div>"
      ],
      "text/plain": [
       "          PC1       PC2    species\n",
       "0   -2.264703  0.480027     setosa\n",
       "1   -2.080961 -0.674134     setosa\n",
       "2   -2.364229 -0.341908     setosa\n",
       "3   -2.299384 -0.597395     setosa\n",
       "4   -2.389842  0.646835     setosa\n",
       "..        ...       ...        ...\n",
       "145  1.870503  0.386966  virginica\n",
       "146  1.564580 -0.896687  virginica\n",
       "147  1.521170  0.269069  virginica\n",
       "148  1.372788  1.011254  virginica\n",
       "149  0.960656 -0.024332  virginica\n",
       "\n",
       "[150 rows x 3 columns]"
      ]
     },
     "execution_count": 57,
     "metadata": {},
     "output_type": "execute_result"
    }
   ],
   "source": [
    "################################\n",
    "# Iris\n",
    "################################\n",
    "\n",
    "import seaborn as sns\n",
    "df = sns.load_dataset(\"iris\")\n",
    "\n",
    "y = df[\"species\"]\n",
    "X = df.drop([\"species\"], axis=1)\n",
    "\n",
    "pca_df = create_pca_df(X, y)\n",
    "pca_df"
   ]
  },
  {
   "cell_type": "code",
   "execution_count": 58,
   "id": "44dc1c2a-4636-4461-959f-f89ead827ba6",
   "metadata": {},
   "outputs": [
    {
     "data": {
      "image/png": "[encoded data removed]",
      "text/plain": [
       "<Figure size 700x500 with 1 Axes>"
      ]
     },
     "metadata": {},
     "output_type": "display_data"
    }
   ],
   "source": [
    "plot_pca(pca_df, \"species\")"
   ]
  },
  {
   "cell_type": "code",
   "execution_count": 59,
   "id": "51751b31-00d9-43a6-b2ab-ed601be8b1ad",
   "metadata": {},
   "outputs": [
    {
     "data": {
      "text/html": [
       "<div>\n",
       "<style scoped>\n",
       "    .dataframe tbody tr th:only-of-type {\n",
       "        vertical-align: middle;\n",
       "    }\n",
       "\n",
       "    .dataframe tbody tr th {\n",
       "        vertical-align: top;\n",
       "    }\n",
       "\n",
       "    .dataframe thead th {\n",
       "        text-align: right;\n",
       "    }\n",
       "</style>\n",
       "<table border=\"1\" class=\"dataframe\">\n",
       "  <thead>\n",
       "    <tr style=\"text-align: right;\">\n",
       "      <th></th>\n",
       "      <th>PC1</th>\n",
       "      <th>PC2</th>\n",
       "      <th>Outcome</th>\n",
       "    </tr>\n",
       "  </thead>\n",
       "  <tbody>\n",
       "    <tr>\n",
       "      <th>0</th>\n",
       "      <td>1.068503</td>\n",
       "      <td>1.234895</td>\n",
       "      <td>1</td>\n",
       "    </tr>\n",
       "    <tr>\n",
       "      <th>1</th>\n",
       "      <td>-1.121683</td>\n",
       "      <td>-0.733852</td>\n",
       "      <td>0</td>\n",
       "    </tr>\n",
       "    <tr>\n",
       "      <th>2</th>\n",
       "      <td>-0.396477</td>\n",
       "      <td>1.595876</td>\n",
       "      <td>1</td>\n",
       "    </tr>\n",
       "    <tr>\n",
       "      <th>3</th>\n",
       "      <td>-1.115781</td>\n",
       "      <td>-1.271241</td>\n",
       "      <td>0</td>\n",
       "    </tr>\n",
       "    <tr>\n",
       "      <th>4</th>\n",
       "      <td>2.359334</td>\n",
       "      <td>-2.184819</td>\n",
       "      <td>1</td>\n",
       "    </tr>\n",
       "    <tr>\n",
       "      <th>...</th>\n",
       "      <td>...</td>\n",
       "      <td>...</td>\n",
       "      <td>...</td>\n",
       "    </tr>\n",
       "    <tr>\n",
       "      <th>763</th>\n",
       "      <td>1.562085</td>\n",
       "      <td>1.923150</td>\n",
       "      <td>0</td>\n",
       "    </tr>\n",
       "    <tr>\n",
       "      <th>764</th>\n",
       "      <td>-0.100405</td>\n",
       "      <td>-0.614181</td>\n",
       "      <td>0</td>\n",
       "    </tr>\n",
       "    <tr>\n",
       "      <th>765</th>\n",
       "      <td>-0.283475</td>\n",
       "      <td>0.097065</td>\n",
       "      <td>0</td>\n",
       "    </tr>\n",
       "    <tr>\n",
       "      <th>766</th>\n",
       "      <td>-1.060324</td>\n",
       "      <td>0.837062</td>\n",
       "      <td>1</td>\n",
       "    </tr>\n",
       "    <tr>\n",
       "      <th>767</th>\n",
       "      <td>-0.839892</td>\n",
       "      <td>-1.151755</td>\n",
       "      <td>0</td>\n",
       "    </tr>\n",
       "  </tbody>\n",
       "</table>\n",
       "<p>768 rows × 3 columns</p>\n",
       "</div>"
      ],
      "text/plain": [
       "          PC1       PC2  Outcome\n",
       "0    1.068503  1.234895        1\n",
       "1   -1.121683 -0.733852        0\n",
       "2   -0.396477  1.595876        1\n",
       "3   -1.115781 -1.271241        0\n",
       "4    2.359334 -2.184819        1\n",
       "..        ...       ...      ...\n",
       "763  1.562085  1.923150        0\n",
       "764 -0.100405 -0.614181        0\n",
       "765 -0.283475  0.097065        0\n",
       "766 -1.060324  0.837062        1\n",
       "767 -0.839892 -1.151755        0\n",
       "\n",
       "[768 rows x 3 columns]"
      ]
     },
     "execution_count": 59,
     "metadata": {},
     "output_type": "execute_result"
    }
   ],
   "source": [
    "################################\n",
    "# Diabetes\n",
    "################################\n",
    "\n",
    "df = pd.read_csv(\"datasets/diabetes.csv\")\n",
    "\n",
    "y = df[\"Outcome\"]\n",
    "X = df.drop([\"Outcome\"], axis=1)\n",
    "\n",
    "pca_df = create_pca_df(X, y)\n",
    "\n",
    "pca_df"
   ]
  },
  {
   "cell_type": "code",
   "execution_count": 60,
   "id": "65067ea6-42cf-463e-abf6-8b34b686ded8",
   "metadata": {},
   "outputs": [
    {
     "data": {
      "image/png": "[encoded data removed]",
      "text/plain": [
       "<Figure size 700x500 with 1 Axes>"
      ]
     },
     "metadata": {},
     "output_type": "display_data"
    }
   ],
   "source": [
    "plot_pca(pca_df, \"Outcome\")"
   ]
  },
  {
   "cell_type": "code",
   "execution_count": null,
   "id": "f46c2b5a-2c89-4bc0-b853-e47ed83c366b",
   "metadata": {},
   "outputs": [],
   "source": []
  }
 ],
 "metadata": {
  "kernelspec": {
   "display_name": "Python (py310)",
   "language": "python",
   "name": "py310"
  },
  "language_info": {
   "codemirror_mode": {
    "name": "ipython",
    "version": 3
   },
   "file_extension": ".py",
   "mimetype": "text/x-python",
   "name": "python",
   "nbconvert_exporter": "python",
   "pygments_lexer": "ipython3",
   "version": "3.10.16"
  }
 },
 "nbformat": 4,
 "nbformat_minor": 5
}
