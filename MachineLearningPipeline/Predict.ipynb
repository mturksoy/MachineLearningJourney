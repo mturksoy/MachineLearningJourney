{
 "cells": [
  {
   "cell_type": "code",
   "execution_count": 1,
   "id": "7fc44afc-40f6-4f63-aeb7-47705a7dae38",
   "metadata": {},
   "outputs": [
    {
     "data": {
      "text/plain": [
       "array([0], dtype=int64)"
      ]
     },
     "execution_count": 1,
     "metadata": {},
     "output_type": "execute_result"
    }
   ],
   "source": [
    "################################################\n",
    "# End-to-End Diabetes Machine Learning Pipeline III\n",
    "################################################\n",
    "import warnings \n",
    "warnings.simplefilter(action='ignore', category=Warning)\n",
    "\n",
    "import joblib\n",
    "import pandas as pd\n",
    "from diabetes_pipeline import diabetes_data_prep\n",
    "\n",
    "# Load the dataset\n",
    "df = pd.read_csv(\"datasets/diabetes.csv\")\n",
    "\n",
    "# Process the data using your preprocessing pipeline\n",
    "X, y = diabetes_data_prep(df)\n",
    "\n",
    "# Sample a random user from the PROCESSED data\n",
    "# This is important - sample after preprocessing\n",
    "random_user = X.sample(1, random_state=50)\n",
    "\n",
    "# Load the model\n",
    "new_model = joblib.load(\"voting_clf.pkl\")\n",
    "\n",
    "# Make prediction with the correctly processed data\n",
    "new_model.predict(random_user)"
   ]
  },
  {
   "cell_type": "code",
   "execution_count": null,
   "id": "57f0b686-e634-4f7f-89f7-3cd958dfa2b2",
   "metadata": {},
   "outputs": [],
   "source": []
  }
 ],
 "metadata": {
  "kernelspec": {
   "display_name": "Python (py310)",
   "language": "python",
   "name": "py310"
  },
  "language_info": {
   "codemirror_mode": {
    "name": "ipython",
    "version": 3
   },
   "file_extension": ".py",
   "mimetype": "text/x-python",
   "name": "python",
   "nbconvert_exporter": "python",
   "pygments_lexer": "ipython3",
   "version": "3.10.16"
  }
 },
 "nbformat": 4,
 "nbformat_minor": 5
}
